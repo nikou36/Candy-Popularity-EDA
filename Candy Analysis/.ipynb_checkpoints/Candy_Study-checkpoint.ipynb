{
 "cells": [
  {
   "cell_type": "markdown",
   "metadata": {},
   "source": [
    "## Which candy is King?"
   ]
  },
  {
   "cell_type": "markdown",
   "metadata": {},
   "source": [
    "Halloween is the time of year where the candy industry is at its peak. But have you ever wondered which candy is the most popular on Halloween? In this analysis I aim to answer that question as well as identify any trends in the data. This study can help manufacturers get a better idea of what kind of candy their customers like during Halloween. Armed with this knowledge they can adjust their products accordingly to improve their sales.\n",
    "\n",
    "This dataset is provided by David Ng's survey conducted on Halloween 2017(https://www.scq.ubc.ca/so-much-candy-data-seriously/). It asks basic identifyer questions(age,gender, etc) Then it asks how each surveyor feels about a certain candy."
   ]
  },
  {
   "cell_type": "code",
   "execution_count": 48,
   "metadata": {},
   "outputs": [],
   "source": [
    "import pandas as pd\n",
    "import numpy as np\n",
    "from sklearn.preprocessing import Imputer\n",
    "import matplotlib.pyplot as plt\n",
    "import seaborn as sns"
   ]
  },
  {
   "cell_type": "code",
   "execution_count": 49,
   "metadata": {},
   "outputs": [],
   "source": [
    "data = pd.read_excel('candyhierarchy2017.xlsx')"
   ]
  },
  {
   "cell_type": "code",
   "execution_count": 50,
   "metadata": {},
   "outputs": [
    {
     "data": {
      "text/html": [
       "<div>\n",
       "<style scoped>\n",
       "    .dataframe tbody tr th:only-of-type {\n",
       "        vertical-align: middle;\n",
       "    }\n",
       "\n",
       "    .dataframe tbody tr th {\n",
       "        vertical-align: top;\n",
       "    }\n",
       "\n",
       "    .dataframe thead th {\n",
       "        text-align: right;\n",
       "    }\n",
       "</style>\n",
       "<table border=\"1\" class=\"dataframe\">\n",
       "  <thead>\n",
       "    <tr style=\"text-align: right;\">\n",
       "      <th></th>\n",
       "      <th>Internal ID</th>\n",
       "      <th>Q1: GOING OUT?</th>\n",
       "      <th>Q2: GENDER</th>\n",
       "      <th>Q3: AGE</th>\n",
       "      <th>Q4: COUNTRY</th>\n",
       "      <th>Q5: STATE, PROVINCE, COUNTY, ETC</th>\n",
       "      <th>Q6 | 100 Grand Bar</th>\n",
       "      <th>Q6 | Anonymous brown globs that come in black and orange wrappers\t(a.k.a. Mary Janes)</th>\n",
       "      <th>Q6 | Any full-sized candy bar</th>\n",
       "      <th>Q6 | Black Jacks</th>\n",
       "      <th>...</th>\n",
       "      <th>Q8: DESPAIR OTHER</th>\n",
       "      <th>Q9: OTHER COMMENTS</th>\n",
       "      <th>Q10: DRESS</th>\n",
       "      <th>Unnamed: 113</th>\n",
       "      <th>Q11: DAY</th>\n",
       "      <th>Q12: MEDIA [Daily Dish]</th>\n",
       "      <th>Q12: MEDIA [Science]</th>\n",
       "      <th>Q12: MEDIA [ESPN]</th>\n",
       "      <th>Q12: MEDIA [Yahoo]</th>\n",
       "      <th>Click Coordinates (x, y)</th>\n",
       "    </tr>\n",
       "  </thead>\n",
       "  <tbody>\n",
       "    <tr>\n",
       "      <th>0</th>\n",
       "      <td>90258773</td>\n",
       "      <td>NaN</td>\n",
       "      <td>NaN</td>\n",
       "      <td>NaN</td>\n",
       "      <td>NaN</td>\n",
       "      <td>NaN</td>\n",
       "      <td>NaN</td>\n",
       "      <td>NaN</td>\n",
       "      <td>NaN</td>\n",
       "      <td>NaN</td>\n",
       "      <td>...</td>\n",
       "      <td>NaN</td>\n",
       "      <td>NaN</td>\n",
       "      <td>NaN</td>\n",
       "      <td>NaN</td>\n",
       "      <td>NaN</td>\n",
       "      <td>NaN</td>\n",
       "      <td>NaN</td>\n",
       "      <td>NaN</td>\n",
       "      <td>NaN</td>\n",
       "      <td>NaN</td>\n",
       "    </tr>\n",
       "    <tr>\n",
       "      <th>1</th>\n",
       "      <td>90272821</td>\n",
       "      <td>No</td>\n",
       "      <td>Male</td>\n",
       "      <td>44</td>\n",
       "      <td>USA</td>\n",
       "      <td>NM</td>\n",
       "      <td>MEH</td>\n",
       "      <td>DESPAIR</td>\n",
       "      <td>JOY</td>\n",
       "      <td>MEH</td>\n",
       "      <td>...</td>\n",
       "      <td>NaN</td>\n",
       "      <td>Bottom line is Twix is really the only candy w...</td>\n",
       "      <td>White and gold</td>\n",
       "      <td>NaN</td>\n",
       "      <td>Sunday</td>\n",
       "      <td>NaN</td>\n",
       "      <td>1.0</td>\n",
       "      <td>NaN</td>\n",
       "      <td>NaN</td>\n",
       "      <td>(84, 25)</td>\n",
       "    </tr>\n",
       "    <tr>\n",
       "      <th>2</th>\n",
       "      <td>90272829</td>\n",
       "      <td>NaN</td>\n",
       "      <td>Male</td>\n",
       "      <td>49</td>\n",
       "      <td>USA</td>\n",
       "      <td>Virginia</td>\n",
       "      <td>NaN</td>\n",
       "      <td>NaN</td>\n",
       "      <td>NaN</td>\n",
       "      <td>NaN</td>\n",
       "      <td>...</td>\n",
       "      <td>NaN</td>\n",
       "      <td>NaN</td>\n",
       "      <td>NaN</td>\n",
       "      <td>NaN</td>\n",
       "      <td>NaN</td>\n",
       "      <td>NaN</td>\n",
       "      <td>NaN</td>\n",
       "      <td>NaN</td>\n",
       "      <td>NaN</td>\n",
       "      <td>NaN</td>\n",
       "    </tr>\n",
       "    <tr>\n",
       "      <th>3</th>\n",
       "      <td>90272840</td>\n",
       "      <td>No</td>\n",
       "      <td>Male</td>\n",
       "      <td>40</td>\n",
       "      <td>us</td>\n",
       "      <td>or</td>\n",
       "      <td>MEH</td>\n",
       "      <td>DESPAIR</td>\n",
       "      <td>JOY</td>\n",
       "      <td>MEH</td>\n",
       "      <td>...</td>\n",
       "      <td>NaN</td>\n",
       "      <td>Raisins can go to hell</td>\n",
       "      <td>White and gold</td>\n",
       "      <td>NaN</td>\n",
       "      <td>Sunday</td>\n",
       "      <td>NaN</td>\n",
       "      <td>1.0</td>\n",
       "      <td>NaN</td>\n",
       "      <td>NaN</td>\n",
       "      <td>(75, 23)</td>\n",
       "    </tr>\n",
       "    <tr>\n",
       "      <th>4</th>\n",
       "      <td>90272841</td>\n",
       "      <td>No</td>\n",
       "      <td>Male</td>\n",
       "      <td>23</td>\n",
       "      <td>usa</td>\n",
       "      <td>exton pa</td>\n",
       "      <td>JOY</td>\n",
       "      <td>DESPAIR</td>\n",
       "      <td>JOY</td>\n",
       "      <td>DESPAIR</td>\n",
       "      <td>...</td>\n",
       "      <td>NaN</td>\n",
       "      <td>NaN</td>\n",
       "      <td>White and gold</td>\n",
       "      <td>NaN</td>\n",
       "      <td>Friday</td>\n",
       "      <td>NaN</td>\n",
       "      <td>1.0</td>\n",
       "      <td>NaN</td>\n",
       "      <td>NaN</td>\n",
       "      <td>(70, 10)</td>\n",
       "    </tr>\n",
       "  </tbody>\n",
       "</table>\n",
       "<p>5 rows × 120 columns</p>\n",
       "</div>"
      ],
      "text/plain": [
       "   Internal ID Q1: GOING OUT? Q2: GENDER Q3: AGE Q4: COUNTRY  \\\n",
       "0     90258773            NaN        NaN     NaN         NaN   \n",
       "1     90272821             No       Male      44        USA    \n",
       "2     90272829            NaN       Male      49         USA   \n",
       "3     90272840             No       Male      40          us   \n",
       "4     90272841             No       Male      23         usa   \n",
       "\n",
       "  Q5: STATE, PROVINCE, COUNTY, ETC Q6 | 100 Grand Bar  \\\n",
       "0                              NaN                NaN   \n",
       "1                               NM                MEH   \n",
       "2                         Virginia                NaN   \n",
       "3                               or                MEH   \n",
       "4                         exton pa                JOY   \n",
       "\n",
       "  Q6 | Anonymous brown globs that come in black and orange wrappers\\t(a.k.a. Mary Janes)  \\\n",
       "0                                                NaN                                       \n",
       "1                                            DESPAIR                                       \n",
       "2                                                NaN                                       \n",
       "3                                            DESPAIR                                       \n",
       "4                                            DESPAIR                                       \n",
       "\n",
       "  Q6 | Any full-sized candy bar Q6 | Black Jacks  ... Q8: DESPAIR OTHER  \\\n",
       "0                           NaN              NaN  ...               NaN   \n",
       "1                           JOY              MEH  ...               NaN   \n",
       "2                           NaN              NaN  ...               NaN   \n",
       "3                           JOY              MEH  ...               NaN   \n",
       "4                           JOY          DESPAIR  ...               NaN   \n",
       "\n",
       "                                  Q9: OTHER COMMENTS      Q10: DRESS  \\\n",
       "0                                                NaN             NaN   \n",
       "1  Bottom line is Twix is really the only candy w...  White and gold   \n",
       "2                                                NaN             NaN   \n",
       "3                             Raisins can go to hell  White and gold   \n",
       "4                                                NaN  White and gold   \n",
       "\n",
       "  Unnamed: 113 Q11: DAY Q12: MEDIA [Daily Dish] Q12: MEDIA [Science]  \\\n",
       "0          NaN      NaN                     NaN                  NaN   \n",
       "1          NaN   Sunday                     NaN                  1.0   \n",
       "2          NaN      NaN                     NaN                  NaN   \n",
       "3          NaN   Sunday                     NaN                  1.0   \n",
       "4          NaN   Friday                     NaN                  1.0   \n",
       "\n",
       "  Q12: MEDIA [ESPN] Q12: MEDIA [Yahoo] Click Coordinates (x, y)  \n",
       "0               NaN                NaN                      NaN  \n",
       "1               NaN                NaN                 (84, 25)  \n",
       "2               NaN                NaN                      NaN  \n",
       "3               NaN                NaN                 (75, 23)  \n",
       "4               NaN                NaN                 (70, 10)  \n",
       "\n",
       "[5 rows x 120 columns]"
      ]
     },
     "execution_count": 50,
     "metadata": {},
     "output_type": "execute_result"
    }
   ],
   "source": [
    "data.head()"
   ]
  },
  {
   "cell_type": "markdown",
   "metadata": {},
   "source": [
    "This dataset is extremely messy, cleaning is going to be a must before conducting any analysis."
   ]
  },
  {
   "cell_type": "markdown",
   "metadata": {},
   "source": [
    "# 1) Data Cleaning"
   ]
  },
  {
   "cell_type": "markdown",
   "metadata": {},
   "source": [
    "## Dropping Columns"
   ]
  },
  {
   "cell_type": "markdown",
   "metadata": {},
   "source": [
    "Some columns that were left blank in the Excel file made their way into the dataframe, we will drop those. In addition, we will also drop columns that are not relevant to candy statistics. For example: the column with answers to the dress question."
   ]
  },
  {
   "cell_type": "code",
   "execution_count": 51,
   "metadata": {},
   "outputs": [
    {
     "data": {
      "text/plain": [
       "Index(['Internal ID', 'Q1: GOING OUT?', 'Q2: GENDER', 'Q3: AGE', 'Q4: COUNTRY',\n",
       "       'Q5: STATE, PROVINCE, COUNTY, ETC', 'Q6 | 100 Grand Bar',\n",
       "       'Q6 | Anonymous brown globs that come in black and orange wrappers\\t(a.k.a. Mary Janes)',\n",
       "       'Q6 | Any full-sized candy bar', 'Q6 | Black Jacks',\n",
       "       ...\n",
       "       'Q8: DESPAIR OTHER', 'Q9: OTHER COMMENTS', 'Q10: DRESS', 'Unnamed: 113',\n",
       "       'Q11: DAY', 'Q12: MEDIA [Daily Dish]', 'Q12: MEDIA [Science]',\n",
       "       'Q12: MEDIA [ESPN]', 'Q12: MEDIA [Yahoo]', 'Click Coordinates (x, y)'],\n",
       "      dtype='object', length=120)"
      ]
     },
     "execution_count": 51,
     "metadata": {},
     "output_type": "execute_result"
    }
   ],
   "source": [
    "data.columns"
   ]
  },
  {
   "cell_type": "code",
   "execution_count": 52,
   "metadata": {},
   "outputs": [],
   "source": [
    "data = data.drop(['Unnamed: 113','Q10: DRESS'],axis = 1)"
   ]
  },
  {
   "cell_type": "code",
   "execution_count": 53,
   "metadata": {},
   "outputs": [
    {
     "data": {
      "text/plain": [
       "Index(['Internal ID', 'Q1: GOING OUT?', 'Q2: GENDER', 'Q3: AGE', 'Q4: COUNTRY',\n",
       "       'Q5: STATE, PROVINCE, COUNTY, ETC', 'Q6 | 100 Grand Bar',\n",
       "       'Q6 | Anonymous brown globs that come in black and orange wrappers\\t(a.k.a. Mary Janes)',\n",
       "       'Q6 | Any full-sized candy bar', 'Q6 | Black Jacks',\n",
       "       ...\n",
       "       'Q6 | York Peppermint Patties', 'Q7: JOY OTHER', 'Q8: DESPAIR OTHER',\n",
       "       'Q9: OTHER COMMENTS', 'Q11: DAY', 'Q12: MEDIA [Daily Dish]',\n",
       "       'Q12: MEDIA [Science]', 'Q12: MEDIA [ESPN]', 'Q12: MEDIA [Yahoo]',\n",
       "       'Click Coordinates (x, y)'],\n",
       "      dtype='object', length=118)"
      ]
     },
     "execution_count": 53,
     "metadata": {},
     "output_type": "execute_result"
    }
   ],
   "source": [
    "list = data.columns\n",
    "list"
   ]
  },
  {
   "cell_type": "markdown",
   "metadata": {},
   "source": [
    "We are not done dropping columns yet. I will now drop columns that have a good amount of data missing. I'll use the 80% rule of thumb as a bench mark "
   ]
  },
  {
   "cell_type": "code",
   "execution_count": 54,
   "metadata": {},
   "outputs": [
    {
     "data": {
      "text/plain": [
       "(2460, 118)"
      ]
     },
     "execution_count": 54,
     "metadata": {},
     "output_type": "execute_result"
    }
   ],
   "source": [
    "data.shape"
   ]
  },
  {
   "cell_type": "code",
   "execution_count": 55,
   "metadata": {},
   "outputs": [
    {
     "data": {
      "text/plain": [
       "['Q9: OTHER COMMENTS',\n",
       " 'Q12: MEDIA [Daily Dish]',\n",
       " 'Q12: MEDIA [ESPN]',\n",
       " 'Q12: MEDIA [Yahoo]']"
      ]
     },
     "execution_count": 55,
     "metadata": {},
     "output_type": "execute_result"
    }
   ],
   "source": [
    "rows = data['Internal ID'].count()\n",
    "thresh = 0.8 * rows\n",
    "def filter(thresh,data):\n",
    "    near_empty = []\n",
    "    for col in data.columns:\n",
    "        if(data[col].isnull().sum() >= thresh ):\n",
    "            near_empty.append(col)\n",
    "    return near_empty\n",
    "to_drop = filter(thresh,data)\n",
    "to_drop"
   ]
  },
  {
   "cell_type": "code",
   "execution_count": 56,
   "metadata": {},
   "outputs": [
    {
     "data": {
      "text/plain": [
       "Index(['Internal ID', 'Q1: GOING OUT?', 'Q2: GENDER', 'Q3: AGE', 'Q4: COUNTRY',\n",
       "       'Q5: STATE, PROVINCE, COUNTY, ETC', 'Q6 | 100 Grand Bar',\n",
       "       'Q6 | Anonymous brown globs that come in black and orange wrappers\\t(a.k.a. Mary Janes)',\n",
       "       'Q6 | Any full-sized candy bar', 'Q6 | Black Jacks',\n",
       "       ...\n",
       "       'Q6 | Vicodin', 'Q6 | Whatchamacallit Bars', 'Q6 | White Bread',\n",
       "       'Q6 | Whole Wheat anything', 'Q6 | York Peppermint Patties',\n",
       "       'Q7: JOY OTHER', 'Q8: DESPAIR OTHER', 'Q11: DAY',\n",
       "       'Q12: MEDIA [Science]', 'Click Coordinates (x, y)'],\n",
       "      dtype='object', length=114)"
      ]
     },
     "execution_count": 56,
     "metadata": {},
     "output_type": "execute_result"
    }
   ],
   "source": [
    "data = data.drop(to_drop,axis = 1)\n",
    "data.columns"
   ]
  },
  {
   "cell_type": "markdown",
   "metadata": {},
   "source": [
    "The next step would be to impute some missing values but we have to keep in mind that some of the data is not numeric. \n",
    "The most notible ones are the answers to the candy survey questions. Looking at the documentation for the data set we see that the possible answers are DESPAIR, MEH and JOY. There are also some other categorical questions. \n"
   ]
  },
  {
   "cell_type": "code",
   "execution_count": 57,
   "metadata": {},
   "outputs": [
    {
     "data": {
      "text/plain": [
       "Text(0.5, 1.0, 'Missing Values')"
      ]
     },
     "execution_count": 57,
     "metadata": {},
     "output_type": "execute_result"
    },
    {
     "data": {
      "image/png": "[encoded data removed]",
      "text/plain": [
       "<Figure size 1440x720 with 1 Axes>"
      ]
     },
     "metadata": {
      "needs_background": "light"
     },
     "output_type": "display_data"
    }
   ],
   "source": [
    "fig, ax = plt.subplots(figsize=(20,10))\n",
    "sns.heatmap(data.isnull(),cbar = False).set_title(\"Missing Values\")"
   ]
  },
  {
   "cell_type": "markdown",
   "metadata": {},
   "source": [
    "Because of the large volume of features in our data set, it is hard to visualize how much data is missing for a specific column. What is clear though is that there is alot of white in this chart, meaning there is alot of data missing. Let us take a closer look at this missing data. "
   ]
  },
  {
   "cell_type": "code",
   "execution_count": 58,
   "metadata": {},
   "outputs": [
    {
     "data": {
      "text/plain": [
       "Text(0.5, 1.0, 'Number of Missing Values in Each Column')"
      ]
     },
     "execution_count": 58,
     "metadata": {},
     "output_type": "execute_result"
    },
    {
     "data": {
      "image/png": "[encoded data removed]",
      "text/plain": [
       "<Figure size 2160x1080 with 1 Axes>"
      ]
     },
     "metadata": {
      "needs_background": "light"
     },
     "output_type": "display_data"
    }
   ],
   "source": [
    "fig, ax = plt.subplots(figsize=(30,15))\n",
    "sns.barplot(data.columns,data.isnull().sum()).set_title(\"Number of Missing Values in Each Column\")"
   ]
  },
  {
   "cell_type": "markdown",
   "metadata": {},
   "source": [
    "Looking at this graph we can see a spike in missing values towards the end of the survey. Referencing the previous heat map we can see that the largest spike comes from the column 'Q8: Despair Other'. As you can guess this column contains the answers of the question \"what other candy do you despise?\". Since the goal of this study is to figure out what consumers like this column can be dropped since it does not help solve the problem and it filled with alot of missing values.\n",
    "\n",
    "The spike to the left of it is the column containing the question of \"what other candy do you enjoy\". This is relevant to the question at hand thus we will keep this column. In fact, I will leave this column alone and not conduct any type of imputation on it. The way I see it, the core statstics come from the main questions themselves. Since this is a supplemental question, the answers are supplemental statistics and thus serve only to enahnce an argument instead of make one. "
   ]
  },
  {
   "cell_type": "code",
   "execution_count": 59,
   "metadata": {},
   "outputs": [
    {
     "data": {
      "text/plain": [
       "Index(['Internal ID', 'Q1: GOING OUT?', 'Q2: GENDER', 'Q3: AGE', 'Q4: COUNTRY',\n",
       "       'Q5: STATE, PROVINCE, COUNTY, ETC', 'Q6 | 100 Grand Bar',\n",
       "       'Q6 | Anonymous brown globs that come in black and orange wrappers\\t(a.k.a. Mary Janes)',\n",
       "       'Q6 | Any full-sized candy bar', 'Q6 | Black Jacks',\n",
       "       ...\n",
       "       'Q6 | Vials of pure high fructose corn syrup, for main-lining into your vein',\n",
       "       'Q6 | Vicodin', 'Q6 | Whatchamacallit Bars', 'Q6 | White Bread',\n",
       "       'Q6 | Whole Wheat anything', 'Q6 | York Peppermint Patties',\n",
       "       'Q7: JOY OTHER', 'Q11: DAY', 'Q12: MEDIA [Science]',\n",
       "       'Click Coordinates (x, y)'],\n",
       "      dtype='object', length=113)"
      ]
     },
     "execution_count": 59,
     "metadata": {},
     "output_type": "execute_result"
    }
   ],
   "source": [
    "data = data.drop(['Q8: DESPAIR OTHER'], axis = 1)\n",
    "data.columns"
   ]
  },
  {
   "cell_type": "markdown",
   "metadata": {},
   "source": [
    "## Handling Anomolies"
   ]
  },
  {
   "cell_type": "markdown",
   "metadata": {},
   "source": [
    "Some of these questions allowed the user to type in their answer. This led to incorrect entries. For example, the Q3: AGE column has some string responses even though we only expected integers. Let's clean this up."
   ]
  },
  {
   "cell_type": "code",
   "execution_count": 60,
   "metadata": {},
   "outputs": [
    {
     "data": {
      "text/plain": [
       "Internal ID                                                                                 int64\n",
       "Q1: GOING OUT?                                                                             object\n",
       "Q2: GENDER                                                                                 object\n",
       "Q3: AGE                                                                                    object\n",
       "Q4: COUNTRY                                                                                object\n",
       "Q5: STATE, PROVINCE, COUNTY, ETC                                                           object\n",
       "Q6 | 100 Grand Bar                                                                         object\n",
       "Q6 | Anonymous brown globs that come in black and orange wrappers\\t(a.k.a. Mary Janes)     object\n",
       "Q6 | Any full-sized candy bar                                                              object\n",
       "Q6 | Black Jacks                                                                           object\n",
       "Q6 | Bonkers (the candy)                                                                   object\n",
       "Q6 | Bonkers (the board game)                                                              object\n",
       "Q6 | Bottle Caps                                                                           object\n",
       "Q6 | Box'o'Raisins                                                                         object\n",
       "Q6 | Broken glow stick                                                                     object\n",
       "Q6 | Butterfinger                                                                          object\n",
       "Q6 | Cadbury Creme Eggs                                                                    object\n",
       "Q6 | Candy Corn                                                                            object\n",
       "Q6 | Candy that is clearly just the stuff given out for free at restaurants                object\n",
       "Q6 | Caramellos                                                                            object\n",
       "Q6 | Cash, or other forms of legal tender                                                  object\n",
       "Q6 | Chardonnay                                                                            object\n",
       "Q6 | Chick-o-Sticks (we don’t know what that is)                                           object\n",
       "Q6 | Chiclets                                                                              object\n",
       "Q6 | Coffee Crisp                                                                          object\n",
       "Q6 | Creepy Religious comics/Chick Tracts                                                  object\n",
       "Q6 | Dental paraphenalia                                                                   object\n",
       "Q6 | Dots                                                                                  object\n",
       "Q6 | Dove Bars                                                                             object\n",
       "Q6 | Fuzzy Peaches                                                                         object\n",
       "                                                                                           ...   \n",
       "Q6 | Reggie Jackson Bar                                                                    object\n",
       "Q6 | Rolos                                                                                 object\n",
       "Q6 | Sandwich-sized bags filled with BooBerry Crunch                                       object\n",
       "Q6 | Skittles                                                                              object\n",
       "Q6 | Smarties (American)                                                                   object\n",
       "Q6 | Smarties (Commonwealth)                                                               object\n",
       "Q6 | Snickers                                                                              object\n",
       "Q6 | Sourpatch Kids (i.e. abominations of nature)                                          object\n",
       "Q6 | Spotted Dick                                                                          object\n",
       "Q6 | Starburst                                                                             object\n",
       "Q6 | Sweet Tarts                                                                           object\n",
       "Q6 | Swedish Fish                                                                          object\n",
       "Q6 | Sweetums (a friend to diabetes)                                                       object\n",
       "Q6 | Take 5                                                                                object\n",
       "Q6 | Tic Tacs                                                                              object\n",
       "Q6 | Those odd marshmallow circus peanut things                                            object\n",
       "Q6 | Three Musketeers                                                                      object\n",
       "Q6 | Tolberone something or other                                                          object\n",
       "Q6 | Trail Mix                                                                             object\n",
       "Q6 | Twix                                                                                  object\n",
       "Q6 | Vials of pure high fructose corn syrup, for main-lining into your vein                object\n",
       "Q6 | Vicodin                                                                               object\n",
       "Q6 | Whatchamacallit Bars                                                                  object\n",
       "Q6 | White Bread                                                                           object\n",
       "Q6 | Whole Wheat anything                                                                  object\n",
       "Q6 | York Peppermint Patties                                                               object\n",
       "Q7: JOY OTHER                                                                              object\n",
       "Q11: DAY                                                                                   object\n",
       "Q12: MEDIA [Science]                                                                      float64\n",
       "Click Coordinates (x, y)                                                                   object\n",
       "Length: 113, dtype: object"
      ]
     },
     "execution_count": 60,
     "metadata": {},
     "output_type": "execute_result"
    }
   ],
   "source": [
    "data.dtypes"
   ]
  },
  {
   "cell_type": "markdown",
   "metadata": {},
   "source": [
    "Almost all our columns are of type object. This is troublesome since object can encompass many things and does not gurantee that each column has its required type. \n",
    "\n",
    "For our age column to can use pandas' to_numeric function to filter out all the unnecessary strings. "
   ]
  },
  {
   "cell_type": "code",
   "execution_count": 61,
   "metadata": {},
   "outputs": [
    {
     "data": {
      "text/plain": [
       "84"
      ]
     },
     "execution_count": 61,
     "metadata": {},
     "output_type": "execute_result"
    }
   ],
   "source": [
    "data['Q3: AGE'].isnull().sum()"
   ]
  },
  {
   "cell_type": "code",
   "execution_count": 62,
   "metadata": {},
   "outputs": [],
   "source": [
    "data['Q3: AGE'] = pd.to_numeric(data['Q3: AGE'],errors='coerce')"
   ]
  },
  {
   "cell_type": "code",
   "execution_count": 63,
   "metadata": {},
   "outputs": [
    {
     "data": {
      "text/plain": [
       "108"
      ]
     },
     "execution_count": 63,
     "metadata": {},
     "output_type": "execute_result"
    }
   ],
   "source": [
    "data['Q3: AGE'].isnull().sum()"
   ]
  },
  {
   "cell_type": "code",
   "execution_count": 64,
   "metadata": {},
   "outputs": [
    {
     "data": {
      "text/plain": [
       "dtype('float64')"
      ]
     },
     "execution_count": 64,
     "metadata": {},
     "output_type": "execute_result"
    }
   ],
   "source": [
    "data['Q3: AGE'].dtype"
   ]
  },
  {
   "cell_type": "markdown",
   "metadata": {},
   "source": [
    "Our age column is now numeric as it should be. All 24 strings were converted to NaN values. The age column is also a free form answer, thus we can expect some anomalies in this column even after elimimating non numeric answers. Let's see what we're dealing with."
   ]
  },
  {
   "cell_type": "code",
   "execution_count": 65,
   "metadata": {},
   "outputs": [
    {
     "data": {
      "text/plain": [
       "Text(0.5, 1.0, 'Ages')"
      ]
     },
     "execution_count": 65,
     "metadata": {},
     "output_type": "execute_result"
    },
    {
     "data": {
      "image/png": "[encoded data removed]",
      "text/plain": [
       "<Figure size 2160x1080 with 1 Axes>"
      ]
     },
     "metadata": {
      "needs_background": "light"
     },
     "output_type": "display_data"
    }
   ],
   "source": [
    "fig, ax = plt.subplots(figsize=(30,15))\n",
    "sns.boxplot(x=data[\"Q3: AGE\"]).set_title('Ages')"
   ]
  },
  {
   "cell_type": "markdown",
   "metadata": {},
   "source": [
    "As you can see we got some insane ages reported. We got people ranging from 0 to 1000 years old! Right off the bat let's get rid of the 1000 as it will throw off our standard deviation."
   ]
  },
  {
   "cell_type": "code",
   "execution_count": 66,
   "metadata": {},
   "outputs": [
    {
     "data": {
      "text/plain": [
       "Text(0.5, 1.0, 'Ages')"
      ]
     },
     "execution_count": 66,
     "metadata": {},
     "output_type": "execute_result"
    },
    {
     "data": {
      "image/png": "[encoded data removed]",
      "text/plain": [
       "<Figure size 432x288 with 1 Axes>"
      ]
     },
     "metadata": {
      "needs_background": "light"
     },
     "output_type": "display_data"
    }
   ],
   "source": [
    "avg_age = data[\"Q3: AGE\"].mean()\n",
    "data['Q3: AGE'] = data['Q3: AGE'].replace(1000, avg_age)\n",
    "sns.boxplot(x=data[\"Q3: AGE\"]).set_title('Ages')"
   ]
  },
  {
   "cell_type": "markdown",
   "metadata": {},
   "source": [
    "Now we can get rid of the rest of the outliers. "
   ]
  },
  {
   "cell_type": "code",
   "execution_count": 67,
   "metadata": {},
   "outputs": [
    {
     "name": "stdout",
     "output_type": "stream",
     "text": [
      "Average Age: 42.61730442176871\n",
      "Upper threshold: 82.71221920208315\n",
      "Lower threshold: 2.522389641454268\n"
     ]
    },
    {
     "data": {
      "text/plain": [
       "Text(0.5, 1.0, 'Ages')"
      ]
     },
     "execution_count": 67,
     "metadata": {},
     "output_type": "execute_result"
    },
    {
     "data": {
      "image/png": "[encoded data removed]",
      "text/plain": [
       "<Figure size 432x288 with 1 Axes>"
      ]
     },
     "metadata": {
      "needs_background": "light"
     },
     "output_type": "display_data"
    }
   ],
   "source": [
    "rows = len(data)\n",
    "age_std = data[\"Q3: AGE\"].std()\n",
    "thresh = age_std * 3\n",
    "up_lim = avg_age + thresh\n",
    "print(\"Average Age:\",avg_age)\n",
    "print(\"Upper threshold:\",up_lim)\n",
    "lo_lim = avg_age - thresh\n",
    "print(\"Lower threshold:\",lo_lim)\n",
    "\n",
    "data['Q3: AGE'] = data['Q3: AGE'].replace(np.nan,avg_age, regex=True)\n",
    "outliers = []\n",
    "\n",
    "for i in range(rows):\n",
    "    if (data['Q3: AGE'][i] >= up_lim or data['Q3: AGE'][i] <= lo_lim):\n",
    "         data['Q3: AGE'] = data['Q3: AGE'].replace(data['Q3: AGE'][i], avg_age)\n",
    "  \n",
    "sns.boxplot(x=data[\"Q3: AGE\"]).set_title('Ages')"
   ]
  },
  {
   "cell_type": "markdown",
   "metadata": {},
   "source": [
    "To a certain degree our age column looks more reasonible now. "
   ]
  },
  {
   "cell_type": "markdown",
   "metadata": {},
   "source": [
    "Next lets deal with the Q4: COUNTRY column.\n",
    "\n",
    "We want this column to be of type string. We have to do a little more work for this column. First lets determine what type of objects are in this column. The function below accomplishes this."
   ]
  },
  {
   "cell_type": "code",
   "execution_count": 68,
   "metadata": {},
   "outputs": [
    {
     "name": "stdout",
     "output_type": "stream",
     "text": [
      "{<class 'float'>, <class 'str'>, <class 'int'>}\n"
     ]
    }
   ],
   "source": [
    "def determine_types(col):\n",
    "    types = set([])\n",
    "    for index, row in data.iterrows():\n",
    "        types.add(type(row[col]))\n",
    "    return types\n",
    "\n",
    "col4_types = determine_types('Q4: COUNTRY')\n",
    "print(col4_types)       "
   ]
  },
  {
   "cell_type": "markdown",
   "metadata": {},
   "source": [
    "Now we know we have to handle 3 types of data. Next I'll create a function to replace the unwanted types (floats and ints) to our desired type of string. I will use the string \"Missing\" to fill in the unwanted types. "
   ]
  },
  {
   "cell_type": "code",
   "execution_count": 69,
   "metadata": {},
   "outputs": [
    {
     "name": "stdout",
     "output_type": "stream",
     "text": [
      "{<class 'str'>}\n"
     ]
    },
    {
     "name": "stderr",
     "output_type": "stream",
     "text": [
      "C:\\Users\\Nick Kouthong\\Anaconda3\\lib\\site-packages\\ipykernel_launcher.py:9: SettingWithCopyWarning: \n",
      "A value is trying to be set on a copy of a slice from a DataFrame\n",
      "\n",
      "See the caveats in the documentation: http://pandas.pydata.org/pandas-docs/stable/indexing.html#indexing-view-versus-copy\n",
      "  if __name__ == '__main__':\n"
     ]
    },
    {
     "data": {
      "text/plain": [
       "array(['Missing', 'USA', 'us', 'usa', 'canada', 'Canada', 'Us', 'US',\n",
       "       'Murica', 'United States', 'uk', 'United Kingdom', 'united states',\n",
       "       'Usa', 'United staes', 'United States of America', 'UAE',\n",
       "       'England', 'UK', 'Mexico', 'United states', 'u.s.a.', 'USAUSAUSA',\n",
       "       'america', 'france', 'U.S.A.', 'finland', 'unhinged states',\n",
       "       'united states of america', 'US of A', 'Unites States',\n",
       "       'The United States', 'North Carolina', 'Unied States',\n",
       "       'Netherlands', 'germany', 'Europe', 'Earth', 'U S', 'u.s.', 'U.K.',\n",
       "       'Costa Rica', 'The United States of America', 'unite states',\n",
       "       'U.S.', 'cascadia', 'Australia', 'insanity lately', 'Greece',\n",
       "       'USA? Hard to tell anymore..', \"'merica\", 'usas', 'Pittsburgh',\n",
       "       'United State', 'France', 'australia', 'A', 'Can', 'Canae',\n",
       "       'New York', 'Trumpistan', 'Ireland', 'United Sates', 'Korea',\n",
       "       'California', 'Japan', 'USa', 'South africa',\n",
       "       'I pretend to be from Canada, but I am really from the United States.',\n",
       "       'Uk', 'Iceland', 'Germany', 'Canada`', 'Scotland', 'Denmark',\n",
       "       'United Stated', 'Switzerland', 'Ahem....Amerca', 'UD',\n",
       "       'South Korea', 'New Jersey', 'CANADA', 'Indonesia',\n",
       "       'United ststes', 'America', 'The Netherlands', 'United Statss',\n",
       "       'endland', 'Atlantis', 'murrika', 'USA! USA! USA!', 'USAA',\n",
       "       'Alaska', 'united States', 'soviet canuckistan', 'N. America',\n",
       "       'Singapore', 'USSA', 'China', 'Taiwan', 'hong kong', 'spain',\n",
       "       'Sweden', 'Hong Kong', 'Narnia', 'u s a', 'United Statea',\n",
       "       'united ststes', 'subscribe to dm4uz3 on youtube',\n",
       "       'United kingdom', 'USA USA USA!!!!', \"I don't know anymore\",\n",
       "       'Fear and Loathing'], dtype=object)"
      ]
     },
     "execution_count": 69,
     "metadata": {},
     "output_type": "execute_result"
    }
   ],
   "source": [
    "data['Q4: COUNTRY'] = data['Q4: COUNTRY'].replace(np.nan,'Missing', regex=True)\n",
    "\n",
    "data['Q4: COUNTRY'] = data['Q4: COUNTRY'].astype(str)\n",
    "print(determine_types('Q4: COUNTRY'))\n",
    "\n",
    "\n",
    "for i in range(rows):\n",
    "     if (data['Q4: COUNTRY'][i].isnumeric()):\n",
    "        data['Q4: COUNTRY'][i] = 'Missing'\n",
    "\n",
    "data['Q4: COUNTRY'] = data['Q4: COUNTRY'].apply(lambda x: x.strip())\n",
    "data['Q4: COUNTRY'].unique()\n"
   ]
  },
  {
   "cell_type": "markdown",
   "metadata": {},
   "source": [
    "We got rid of all the numeric and NaN values in column 4."
   ]
  },
  {
   "cell_type": "code",
   "execution_count": 70,
   "metadata": {},
   "outputs": [
    {
     "data": {
      "text/plain": [
       "array(['nan', 'NM', 'Virginia', 'or', 'exton pa', 'Colorado', 'ontario',\n",
       "       'Ontario', 'Wa', 'Quebec', 'NY', 'California', 'Texas', 'NEW YORK',\n",
       "       'CO', 'IN', 'MN', 'aberdeenshire', 'Alberta', 'Wisconsin, 53705',\n",
       "       'RI', 'NC', 'Scotland', 'minnesota', 'Michigan', 'Florida',\n",
       "       'New Jersey', 'VA', 'Los Angeles, California', 'CA', 'New York',\n",
       "       'Chicago, Illinois', 'Nj', 'Wisconsin', 'Minnesota', 'London',\n",
       "       'mn', 'TEXAS', 'Illinois', 'District of Columbia', 'Washington',\n",
       "       'Massachusetts', 'OR', 'Montana', 'massachusetts', 'Abu Dhabi',\n",
       "       'TX', 'Arizona', 'Dc', 'yukon', 'Pennsylvania', 'MD', 'Ohio',\n",
       "       'OXFORDSHIRE', 'DC', 'Iowa', 'Mn', 'TN', 'BC', 'Maryland', 'MI',\n",
       "       'alaska', 'Ny', 'Colorado, Jefferson county', 'Louisiana', 'pa',\n",
       "       'CO, Larimer County', 'Nebraska', 'Oregon', 'UT', 'ny', 'CDMX',\n",
       "       'north carolina', 'Tennessee', 'Knox county, Tennessee',\n",
       "       'New Mexico', 'Maine', 'maine', 'Virginia, Arlington', 'WA', 'MO',\n",
       "       'Mi', 'MA', 'Alaska', 'New York, NY', 'Il', 'PA', 'New Hampshire',\n",
       "       'Georgia', 'IL', 'Washington, Clark', 'NE', 'Oklahoma', 'SC', 'mi',\n",
       "       'Nevada', 'va', 'vancouver, bc',\n",
       "       'Oregon - but will be in Washington for Halloween', 'Ri',\n",
       "       'Washington, King', 'Ca', 'wa', 'md', 'new york', 'Rhode island',\n",
       "       'VT, Chittenden', 'North Carolina', 'pennsylvania', 'PEnnsylvania',\n",
       "       'Alabama', 'GA', 'FL, Orange County', 'Nope', 'manitoba',\n",
       "       'colorado', 'california', 'South Carolina', 'Baja California',\n",
       "       'illinois', 'Santa Cruz County, California', 'MARYLAND', 'NJ',\n",
       "       'North Dakota', 'Pennsylvania, Montgomery County', 'Astoria NY',\n",
       "       'ca', 'Kansas', 'sk', 'Missouri', 'Oxfordshire',\n",
       "       'British Columbia', 'West Virginia', 'Harris County, Texas', 'USA',\n",
       "       'ohio', 'ma', 'nc', 'Bc', 'oregon', 'philadelphia', 'Kentucky',\n",
       "       'HI', 'South Holland', 'Derbyshire', 'hesse',\n",
       "       'Massachusetts, Plymouth county', 'hi', 'Co', 'Cali', 'vt',\n",
       "       'CA, Alameda', 'Utah', 'FL', 'Michigan, Shiawassee County',\n",
       "       'Newfoundland', 'Indiana', 'wisconsin', 'Idaho ada', 'La',\n",
       "       'America', 'Hawaii', 'California, Alameda', 'Az', 'VT', 'AZ',\n",
       "       'Sub Earth', 'North dakota', 'virginia', 'Ga',\n",
       "       'alameda county, california', 'Greater London', 'bc', 'nm', 'AB',\n",
       "       'WV, Kanawha County', 'michigan', 'tx', 'Washington State',\n",
       "       'Sussex', '48', 'Washington, King County', 'San Jose', 'florida',\n",
       "       'Connecticut', 'Orlando, FL', 'ON', 'Saskatchewan', 'texas',\n",
       "       'newfoundland', 'mississippi', 'washington', 'Manitoba',\n",
       "       'Manchester', 'cascadia', 'in', 'rhode island', 'Pa', 'Ut',\n",
       "       'Sydney', 'CT', 'oblivion if things keep going this way',\n",
       "       'connecticut', 'Nunya, Bizness, USA', 'OH', 'Washington state',\n",
       "       'Oakland, California', 'Washington, Seattle, king',\n",
       "       'Ontario,  Canada', 'ri', 'phoenix, maricopa county, arizona',\n",
       "       'Merlin', 'NS', 'Washington state, Kitsap County', 'cailifornia',\n",
       "       'oakland,ca', 'QC', 'Pittsburgh pa', 'Issaquah, WA, King County',\n",
       "       'Washington, seattle, king', 'Massachussets', 'Whatcom County, WA',\n",
       "       'Mt', 'NH', 'Michigin', 'Ma', 'KS', 'Oakland County, Michigan',\n",
       "       'Albeqrrta', 'Marne', 'Noord-Holland', 'Tennessee, Knox County',\n",
       "       'Henrico, VA', 'Washington State, King County, City of Seattle',\n",
       "       'Washington, DC', 'nyc', 'Brooklyn', 'qld',\n",
       "       'Santa Barbara co. California', 'Ky', 'New Orleans la',\n",
       "       'colorado, boulder', 'mo', 'COLORADO', 'Nh', 'Greater Manchester',\n",
       "       'Fife, Scotland', 'A', 'Kalamazoo County, MI', 'OREGON', 'Wi',\n",
       "       'wv', 'ulster county, NY', 'NJ, Gloucester', 'calif', 'Or', 'tn',\n",
       "       'MS', 'NB', 'Queens', 'Vermont', 'Kildare', 'ND', 'tennessee',\n",
       "       'Washington DC', 'Kings, New York', 'Cook', 'Toronto, Ontario',\n",
       "       'Victoria', 'On', 'nova scotia', 'Tehama', 'suffolk county ny',\n",
       "       'Santa Clara County, California', 'louisiana', 'SD', 'Md',\n",
       "       'Missoure', 'IA', 'Colorado larimer county', 'Tokyo',\n",
       "       'New Mexico, USA', 'ont', 'Califor', 'Idaho', 'NV',\n",
       "       'Brooklyn, kings county ny', 'King County, Washington', 'WI',\n",
       "       'Washington, Island county', 'KwaZulu-Natal', 'Carver county, MN',\n",
       "       'DUTCHESS COUNTY NY', 'Wyoming', 'Bristol', 'british columbia',\n",
       "       'California, San Francisco', 'Glendora, Los Angeles, California',\n",
       "       'Edinburgh', 'Strathclyde', 'Lancasire', 'Ørbæk', 'pr', 'Idf',\n",
       "       'Zuid Holland', 'Osaka', 'Surrey', 'Northern ireland', 'Vaud',\n",
       "       'Nova Scotia', 'az', 'see question 2', 'Midlothian',\n",
       "       'Durham County, North Carolina', 'Missouri, Miller County',\n",
       "       'Glasgow', 'ct', 'Cuyahoga County, Ohio', 'Seoul', 'Canada',\n",
       "       'Kanagawa', 'The Shore', 'Devonshire', 'Tx.', 'maryland',\n",
       "       'PENNSYLVANIA', 'ONTARIO', 'Jakarta', 'kansas',\n",
       "       'Mannheim, Baden-Württemberg', '|NC', 'Rotterdam', 'Ar',\n",
       "       'Arkansas', 'renton,wa', 'N-Brabant', 'missouri', 'Greifswald',\n",
       "       'ar', 'British Columbia, Canada', 'kent', 'Hessen', 'NOYB',\n",
       "       'New york', 'South Dakota', 'Emerald City, Petrolia',\n",
       "       'New York, New York', 'wa, spokane',\n",
       "       'Buncombe County, North Carolina', 'California, San Diego',\n",
       "       'new hampshire', 'California, Ventura County',\n",
       "       'NY, Tompkins County', 'Arlington, VA', 'kentucky', 'alberta',\n",
       "       'Philadelphia', 'Portland, maine', 'sc', 'nh', 'NSW', 'califormia',\n",
       "       'New jersey', 'montana', 'indiana', 'Mexico city', 'GA - Georgia',\n",
       "       'il', 'WV', 'Oregon, Multnomah County', 'Vancouver, Wa', 'Nc',\n",
       "       'Atlanta, GA', 'Singapore', 'west virginia', 'North carolina',\n",
       "       'KY', 'United States', 'Mo', 'Colorado (CO)', 'Fl', 'wyoming',\n",
       "       'Nm', 'Dona Ana county, New Mexico', 'UT, Salt Lake', 'Ks',\n",
       "       'California, Contra Costa County, Pleasant Hill',\n",
       "       'Shanghai, Chang Ning district', 'Vt', 'Monroe county',\n",
       "       'Hong Kong', 'Washingto', 'Dublin', 'California, Mendocino County',\n",
       "       'na', 'madrid', 'Hesse', 'Noord-Brabant', 'Skane', 'Zürich',\n",
       "       'Tree Town, USA', 'Philadelphia, PA',\n",
       "       'Bristol County, Rhode Island', 'georgia',\n",
       "       'Newfoundland and Labrador', 'Oshawa, Ontario, Canada', 'NL',\n",
       "       'oklahoma', 'NJ; Essex', 'Va', 'Delaware', 'Mich', 'Ia', 'Québec',\n",
       "       'orange county, ca', 'BERKELEY, CA', 'California, USA', 'NYC',\n",
       "       'St. Louis County, Missouri', 'Munster', 'Chicago, IL',\n",
       "       'Philadelphia PA', 'Rappahannock County, VA', 'OK', 'Mexico City',\n",
       "       'dc', 'WASHINGTON DC', 'Tn', 'ill', 'Stockholm',\n",
       "       'New York County, New York City, New York State', 'Chicago',\n",
       "       'West Yorkshire', 'Berlin', 'arlington, va', '1', 'ur mom',\n",
       "       'Alaska, Matanuska-Susitna Borough', 'utah', 'Marietta, GA',\n",
       "       'Northbrook, IL', 'delaware', 'Tx', 'Ont',\n",
       "       'Northampton County, PA', 'Rhode Island',\n",
       "       'Pa.   Northampton county', 'California, San Diego county',\n",
       "       'Bloomington, IN', 'Quenec', 'Londom', 'nj',\n",
       "       'st. augustine florida', 'iowa',\n",
       "       \"The Democratic People's Republic of North Carolina\",\n",
       "       'pennsylvania, northampton couny, easton', 'St Louis mo', 'mt',\n",
       "       'Psychotic', 'québec'], dtype=object)"
      ]
     },
     "execution_count": 70,
     "metadata": {},
     "output_type": "execute_result"
    }
   ],
   "source": [
    "data['Q5: STATE, PROVINCE, COUNTY, ETC'] = data['Q5: STATE, PROVINCE, COUNTY, ETC'].astype(str)\n",
    "data['Q5: STATE, PROVINCE, COUNTY, ETC'] = data['Q5: STATE, PROVINCE, COUNTY, ETC'].apply(lambda x: x.strip())\n",
    "data['Q5: STATE, PROVINCE, COUNTY, ETC'].unique()"
   ]
  },
  {
   "cell_type": "markdown",
   "metadata": {},
   "source": [
    "Columns 4 and 5 have been proccessed but the information is still a mess. We still need to cluster abreviations with their original meanings (EX: USA --> United States of America) as well as detect which entries are anomolies. I will be using natural language processing techniques to clean and extract information from these columns. The work on these two columns will continue in the exploratory data analysis section below.  "
   ]
  },
  {
   "cell_type": "markdown",
   "metadata": {},
   "source": [
    "## What to do with the missing values?\n"
   ]
  },
  {
   "cell_type": "markdown",
   "metadata": {},
   "source": [
    "Almost all the columns for the candy questions have no higher than 50% of their values missing. So what should we do in this case? Imputation? Use Machine learning? I actually propose that we leave them and here is why.\n",
    "\n",
    "In the context of this problem, missing values are extremely useful in shedding some light on the current candy market. If we think about why a person would leave an answer to a question blank, the reason is likely because they are unfamiliar with the candy or the candy has no made a significant impact on them. This information can tell companies where to market their product next so that more people are familiar with it. Thus, I will treat missing values as any other value in this study.  "
   ]
  },
  {
   "cell_type": "markdown",
   "metadata": {},
   "source": [
    "# 2) Exploratory Data Analysis"
   ]
  },
  {
   "cell_type": "markdown",
   "metadata": {},
   "source": [
    "To kick off our EDA, lets first explore the demographic of our participants. "
   ]
  },
  {
   "cell_type": "code",
   "execution_count": 71,
   "metadata": {},
   "outputs": [
    {
     "data": {
      "text/plain": [
       "Text(0.5, 1.0, 'Genders of Participants')"
      ]
     },
     "execution_count": 71,
     "metadata": {},
     "output_type": "execute_result"
    },
    {
     "data": {
      "image/png": "[encoded data removed]",
      "text/plain": [
       "<Figure size 432x288 with 1 Axes>"
      ]
     },
     "metadata": {
      "needs_background": "light"
     },
     "output_type": "display_data"
    }
   ],
   "source": [
    "sns.barplot(x = data['Q2: GENDER'].value_counts().index,y = data['Q2: GENDER'].value_counts()).set_title(\"Genders of Participants\")"
   ]
  },
  {
   "cell_type": "code",
   "execution_count": 72,
   "metadata": {},
   "outputs": [
    {
     "data": {
      "text/plain": [
       "Text(0.5, 1.0, 'Distribution of Ages of Participants')"
      ]
     },
     "execution_count": 72,
     "metadata": {},
     "output_type": "execute_result"
    },
    {
     "data": {
      "image/png": "[encoded data removed]",
      "text/plain": [
       "<Figure size 2160x1080 with 1 Axes>"
      ]
     },
     "metadata": {
      "needs_background": "light"
     },
     "output_type": "display_data"
    }
   ],
   "source": [
    "fig, ax = plt.subplots(figsize=(30,15))\n",
    "sns.kdeplot(data['Q3: AGE'], shade = True).set_title(\"Distribution of Ages of Participants\")"
   ]
  },
  {
   "cell_type": "markdown",
   "metadata": {},
   "source": [
    "### Some takeaways from these two plots: \n",
    "####  1)Most of the particpants are male \n",
    "####  2)The average participant is in their 40's  \n"
   ]
  },
  {
   "cell_type": "markdown",
   "metadata": {},
   "source": [
    "The next step would be to analyze locations the survey participants are coming from; however, our previous cleaning of the column only eliminated numerical anamolies. There are plenty of non numeric anamolies that are present. It would be extremely difficult and time consuming to filter these out by hand. Thankfully we can use machine learning to help clean up the mess."
   ]
  },
  {
   "cell_type": "markdown",
   "metadata": {},
   "source": [
    "## Natural language processing"
   ]
  },
  {
   "cell_type": "markdown",
   "metadata": {},
   "source": [
    "We can use NLP to help cluster our data and hopefully isolate the anamolies. I will be using the genism and nltk libraries to carry out NLP."
   ]
  },
  {
   "cell_type": "code",
   "execution_count": 73,
   "metadata": {},
   "outputs": [],
   "source": [
    "from gensim import models\n",
    "import nltk"
   ]
  },
  {
   "cell_type": "code",
   "execution_count": 74,
   "metadata": {},
   "outputs": [
    {
     "data": {
      "text/html": [
       "<div>\n",
       "<style scoped>\n",
       "    .dataframe tbody tr th:only-of-type {\n",
       "        vertical-align: middle;\n",
       "    }\n",
       "\n",
       "    .dataframe tbody tr th {\n",
       "        vertical-align: top;\n",
       "    }\n",
       "\n",
       "    .dataframe thead th {\n",
       "        text-align: right;\n",
       "    }\n",
       "</style>\n",
       "<table border=\"1\" class=\"dataframe\">\n",
       "  <thead>\n",
       "    <tr style=\"text-align: right;\">\n",
       "      <th></th>\n",
       "      <th>Internal ID</th>\n",
       "      <th>Q1: GOING OUT?</th>\n",
       "      <th>Q2: GENDER</th>\n",
       "      <th>Q3: AGE</th>\n",
       "      <th>Q4: COUNTRY</th>\n",
       "      <th>Q5: STATE, PROVINCE, COUNTY, ETC</th>\n",
       "      <th>Q6 | 100 Grand Bar</th>\n",
       "      <th>Q6 | Anonymous brown globs that come in black and orange wrappers\t(a.k.a. Mary Janes)</th>\n",
       "      <th>Q6 | Any full-sized candy bar</th>\n",
       "      <th>Q6 | Black Jacks</th>\n",
       "      <th>...</th>\n",
       "      <th>Q6 | Vials of pure high fructose corn syrup, for main-lining into your vein</th>\n",
       "      <th>Q6 | Vicodin</th>\n",
       "      <th>Q6 | Whatchamacallit Bars</th>\n",
       "      <th>Q6 | White Bread</th>\n",
       "      <th>Q6 | Whole Wheat anything</th>\n",
       "      <th>Q6 | York Peppermint Patties</th>\n",
       "      <th>Q7: JOY OTHER</th>\n",
       "      <th>Q11: DAY</th>\n",
       "      <th>Q12: MEDIA [Science]</th>\n",
       "      <th>Click Coordinates (x, y)</th>\n",
       "    </tr>\n",
       "  </thead>\n",
       "  <tbody>\n",
       "    <tr>\n",
       "      <th>0</th>\n",
       "      <td>90258773</td>\n",
       "      <td>NaN</td>\n",
       "      <td>NaN</td>\n",
       "      <td>42.617304</td>\n",
       "      <td>Missing</td>\n",
       "      <td>nan</td>\n",
       "      <td>NaN</td>\n",
       "      <td>NaN</td>\n",
       "      <td>NaN</td>\n",
       "      <td>NaN</td>\n",
       "      <td>...</td>\n",
       "      <td>NaN</td>\n",
       "      <td>NaN</td>\n",
       "      <td>NaN</td>\n",
       "      <td>NaN</td>\n",
       "      <td>NaN</td>\n",
       "      <td>NaN</td>\n",
       "      <td>NaN</td>\n",
       "      <td>NaN</td>\n",
       "      <td>NaN</td>\n",
       "      <td>NaN</td>\n",
       "    </tr>\n",
       "    <tr>\n",
       "      <th>1</th>\n",
       "      <td>90272821</td>\n",
       "      <td>No</td>\n",
       "      <td>Male</td>\n",
       "      <td>44.000000</td>\n",
       "      <td>USA</td>\n",
       "      <td>NM</td>\n",
       "      <td>MEH</td>\n",
       "      <td>DESPAIR</td>\n",
       "      <td>JOY</td>\n",
       "      <td>MEH</td>\n",
       "      <td>...</td>\n",
       "      <td>DESPAIR</td>\n",
       "      <td>DESPAIR</td>\n",
       "      <td>DESPAIR</td>\n",
       "      <td>DESPAIR</td>\n",
       "      <td>DESPAIR</td>\n",
       "      <td>DESPAIR</td>\n",
       "      <td>Mounds</td>\n",
       "      <td>Sunday</td>\n",
       "      <td>1.0</td>\n",
       "      <td>(84, 25)</td>\n",
       "    </tr>\n",
       "    <tr>\n",
       "      <th>2</th>\n",
       "      <td>90272829</td>\n",
       "      <td>NaN</td>\n",
       "      <td>Male</td>\n",
       "      <td>49.000000</td>\n",
       "      <td>USA</td>\n",
       "      <td>Virginia</td>\n",
       "      <td>NaN</td>\n",
       "      <td>NaN</td>\n",
       "      <td>NaN</td>\n",
       "      <td>NaN</td>\n",
       "      <td>...</td>\n",
       "      <td>NaN</td>\n",
       "      <td>NaN</td>\n",
       "      <td>NaN</td>\n",
       "      <td>NaN</td>\n",
       "      <td>NaN</td>\n",
       "      <td>NaN</td>\n",
       "      <td>NaN</td>\n",
       "      <td>NaN</td>\n",
       "      <td>NaN</td>\n",
       "      <td>NaN</td>\n",
       "    </tr>\n",
       "    <tr>\n",
       "      <th>3</th>\n",
       "      <td>90272840</td>\n",
       "      <td>No</td>\n",
       "      <td>Male</td>\n",
       "      <td>40.000000</td>\n",
       "      <td>us</td>\n",
       "      <td>or</td>\n",
       "      <td>MEH</td>\n",
       "      <td>DESPAIR</td>\n",
       "      <td>JOY</td>\n",
       "      <td>MEH</td>\n",
       "      <td>...</td>\n",
       "      <td>DESPAIR</td>\n",
       "      <td>JOY</td>\n",
       "      <td>JOY</td>\n",
       "      <td>DESPAIR</td>\n",
       "      <td>DESPAIR</td>\n",
       "      <td>DESPAIR</td>\n",
       "      <td>Reese's crispy crunchy bars, 5th avenue bars, ...</td>\n",
       "      <td>Sunday</td>\n",
       "      <td>1.0</td>\n",
       "      <td>(75, 23)</td>\n",
       "    </tr>\n",
       "    <tr>\n",
       "      <th>4</th>\n",
       "      <td>90272841</td>\n",
       "      <td>No</td>\n",
       "      <td>Male</td>\n",
       "      <td>23.000000</td>\n",
       "      <td>usa</td>\n",
       "      <td>exton pa</td>\n",
       "      <td>JOY</td>\n",
       "      <td>DESPAIR</td>\n",
       "      <td>JOY</td>\n",
       "      <td>DESPAIR</td>\n",
       "      <td>...</td>\n",
       "      <td>MEH</td>\n",
       "      <td>JOY</td>\n",
       "      <td>JOY</td>\n",
       "      <td>DESPAIR</td>\n",
       "      <td>DESPAIR</td>\n",
       "      <td>JOY</td>\n",
       "      <td>NaN</td>\n",
       "      <td>Friday</td>\n",
       "      <td>1.0</td>\n",
       "      <td>(70, 10)</td>\n",
       "    </tr>\n",
       "    <tr>\n",
       "      <th>5</th>\n",
       "      <td>90272852</td>\n",
       "      <td>No</td>\n",
       "      <td>Male</td>\n",
       "      <td>42.617304</td>\n",
       "      <td>Missing</td>\n",
       "      <td>nan</td>\n",
       "      <td>JOY</td>\n",
       "      <td>DESPAIR</td>\n",
       "      <td>JOY</td>\n",
       "      <td>NaN</td>\n",
       "      <td>...</td>\n",
       "      <td>DESPAIR</td>\n",
       "      <td>DESPAIR</td>\n",
       "      <td>JOY</td>\n",
       "      <td>DESPAIR</td>\n",
       "      <td>DESPAIR</td>\n",
       "      <td>JOY</td>\n",
       "      <td>NaN</td>\n",
       "      <td>NaN</td>\n",
       "      <td>1.0</td>\n",
       "      <td>(75, 23)</td>\n",
       "    </tr>\n",
       "    <tr>\n",
       "      <th>6</th>\n",
       "      <td>90272853</td>\n",
       "      <td>No</td>\n",
       "      <td>Male</td>\n",
       "      <td>53.000000</td>\n",
       "      <td>usa</td>\n",
       "      <td>Colorado</td>\n",
       "      <td>NaN</td>\n",
       "      <td>NaN</td>\n",
       "      <td>NaN</td>\n",
       "      <td>NaN</td>\n",
       "      <td>...</td>\n",
       "      <td>NaN</td>\n",
       "      <td>NaN</td>\n",
       "      <td>NaN</td>\n",
       "      <td>NaN</td>\n",
       "      <td>NaN</td>\n",
       "      <td>NaN</td>\n",
       "      <td>NaN</td>\n",
       "      <td>NaN</td>\n",
       "      <td>NaN</td>\n",
       "      <td>NaN</td>\n",
       "    </tr>\n",
       "    <tr>\n",
       "      <th>7</th>\n",
       "      <td>90272854</td>\n",
       "      <td>No</td>\n",
       "      <td>Male</td>\n",
       "      <td>33.000000</td>\n",
       "      <td>canada</td>\n",
       "      <td>ontario</td>\n",
       "      <td>JOY</td>\n",
       "      <td>DESPAIR</td>\n",
       "      <td>JOY</td>\n",
       "      <td>DESPAIR</td>\n",
       "      <td>...</td>\n",
       "      <td>JOY</td>\n",
       "      <td>MEH</td>\n",
       "      <td>DESPAIR</td>\n",
       "      <td>DESPAIR</td>\n",
       "      <td>DESPAIR</td>\n",
       "      <td>DESPAIR</td>\n",
       "      <td>using my elbows to get in front of the little ...</td>\n",
       "      <td>Friday</td>\n",
       "      <td>1.0</td>\n",
       "      <td>(55, 5)</td>\n",
       "    </tr>\n",
       "    <tr>\n",
       "      <th>8</th>\n",
       "      <td>90272858</td>\n",
       "      <td>No</td>\n",
       "      <td>Male</td>\n",
       "      <td>40.000000</td>\n",
       "      <td>Canada</td>\n",
       "      <td>Ontario</td>\n",
       "      <td>JOY</td>\n",
       "      <td>DESPAIR</td>\n",
       "      <td>JOY</td>\n",
       "      <td>MEH</td>\n",
       "      <td>...</td>\n",
       "      <td>MEH</td>\n",
       "      <td>DESPAIR</td>\n",
       "      <td>MEH</td>\n",
       "      <td>DESPAIR</td>\n",
       "      <td>DESPAIR</td>\n",
       "      <td>DESPAIR</td>\n",
       "      <td>NaN</td>\n",
       "      <td>Sunday</td>\n",
       "      <td>1.0</td>\n",
       "      <td>(76, 24)</td>\n",
       "    </tr>\n",
       "    <tr>\n",
       "      <th>9</th>\n",
       "      <td>90272859</td>\n",
       "      <td>No</td>\n",
       "      <td>Female</td>\n",
       "      <td>53.000000</td>\n",
       "      <td>Us</td>\n",
       "      <td>Wa</td>\n",
       "      <td>MEH</td>\n",
       "      <td>DESPAIR</td>\n",
       "      <td>JOY</td>\n",
       "      <td>MEH</td>\n",
       "      <td>...</td>\n",
       "      <td>DESPAIR</td>\n",
       "      <td>DESPAIR</td>\n",
       "      <td>MEH</td>\n",
       "      <td>DESPAIR</td>\n",
       "      <td>DESPAIR</td>\n",
       "      <td>MEH</td>\n",
       "      <td>Peanut butter m&amp;ms</td>\n",
       "      <td>Sunday</td>\n",
       "      <td>1.0</td>\n",
       "      <td>(70, 28)</td>\n",
       "    </tr>\n",
       "  </tbody>\n",
       "</table>\n",
       "<p>10 rows × 113 columns</p>\n",
       "</div>"
      ],
      "text/plain": [
       "   Internal ID Q1: GOING OUT? Q2: GENDER    Q3: AGE Q4: COUNTRY  \\\n",
       "0     90258773            NaN        NaN  42.617304     Missing   \n",
       "1     90272821             No       Male  44.000000         USA   \n",
       "2     90272829            NaN       Male  49.000000         USA   \n",
       "3     90272840             No       Male  40.000000          us   \n",
       "4     90272841             No       Male  23.000000         usa   \n",
       "5     90272852             No       Male  42.617304     Missing   \n",
       "6     90272853             No       Male  53.000000         usa   \n",
       "7     90272854             No       Male  33.000000      canada   \n",
       "8     90272858             No       Male  40.000000      Canada   \n",
       "9     90272859             No     Female  53.000000          Us   \n",
       "\n",
       "  Q5: STATE, PROVINCE, COUNTY, ETC Q6 | 100 Grand Bar  \\\n",
       "0                              nan                NaN   \n",
       "1                               NM                MEH   \n",
       "2                         Virginia                NaN   \n",
       "3                               or                MEH   \n",
       "4                         exton pa                JOY   \n",
       "5                              nan                JOY   \n",
       "6                         Colorado                NaN   \n",
       "7                          ontario                JOY   \n",
       "8                          Ontario                JOY   \n",
       "9                               Wa                MEH   \n",
       "\n",
       "  Q6 | Anonymous brown globs that come in black and orange wrappers\\t(a.k.a. Mary Janes)  \\\n",
       "0                                                NaN                                       \n",
       "1                                            DESPAIR                                       \n",
       "2                                                NaN                                       \n",
       "3                                            DESPAIR                                       \n",
       "4                                            DESPAIR                                       \n",
       "5                                            DESPAIR                                       \n",
       "6                                                NaN                                       \n",
       "7                                            DESPAIR                                       \n",
       "8                                            DESPAIR                                       \n",
       "9                                            DESPAIR                                       \n",
       "\n",
       "  Q6 | Any full-sized candy bar Q6 | Black Jacks  ...  \\\n",
       "0                           NaN              NaN  ...   \n",
       "1                           JOY              MEH  ...   \n",
       "2                           NaN              NaN  ...   \n",
       "3                           JOY              MEH  ...   \n",
       "4                           JOY          DESPAIR  ...   \n",
       "5                           JOY              NaN  ...   \n",
       "6                           NaN              NaN  ...   \n",
       "7                           JOY          DESPAIR  ...   \n",
       "8                           JOY              MEH  ...   \n",
       "9                           JOY              MEH  ...   \n",
       "\n",
       "  Q6 | Vials of pure high fructose corn syrup, for main-lining into your vein  \\\n",
       "0                                                NaN                            \n",
       "1                                            DESPAIR                            \n",
       "2                                                NaN                            \n",
       "3                                            DESPAIR                            \n",
       "4                                                MEH                            \n",
       "5                                            DESPAIR                            \n",
       "6                                                NaN                            \n",
       "7                                                JOY                            \n",
       "8                                                MEH                            \n",
       "9                                            DESPAIR                            \n",
       "\n",
       "  Q6 | Vicodin Q6 | Whatchamacallit Bars Q6 | White Bread  \\\n",
       "0          NaN                       NaN              NaN   \n",
       "1      DESPAIR                   DESPAIR          DESPAIR   \n",
       "2          NaN                       NaN              NaN   \n",
       "3          JOY                       JOY          DESPAIR   \n",
       "4          JOY                       JOY          DESPAIR   \n",
       "5      DESPAIR                       JOY          DESPAIR   \n",
       "6          NaN                       NaN              NaN   \n",
       "7          MEH                   DESPAIR          DESPAIR   \n",
       "8      DESPAIR                       MEH          DESPAIR   \n",
       "9      DESPAIR                       MEH          DESPAIR   \n",
       "\n",
       "  Q6 | Whole Wheat anything Q6 | York Peppermint Patties  \\\n",
       "0                       NaN                          NaN   \n",
       "1                   DESPAIR                      DESPAIR   \n",
       "2                       NaN                          NaN   \n",
       "3                   DESPAIR                      DESPAIR   \n",
       "4                   DESPAIR                          JOY   \n",
       "5                   DESPAIR                          JOY   \n",
       "6                       NaN                          NaN   \n",
       "7                   DESPAIR                      DESPAIR   \n",
       "8                   DESPAIR                      DESPAIR   \n",
       "9                   DESPAIR                          MEH   \n",
       "\n",
       "                                       Q7: JOY OTHER Q11: DAY  \\\n",
       "0                                                NaN      NaN   \n",
       "1                                             Mounds   Sunday   \n",
       "2                                                NaN      NaN   \n",
       "3  Reese's crispy crunchy bars, 5th avenue bars, ...   Sunday   \n",
       "4                                                NaN   Friday   \n",
       "5                                                NaN      NaN   \n",
       "6                                                NaN      NaN   \n",
       "7  using my elbows to get in front of the little ...   Friday   \n",
       "8                                                NaN   Sunday   \n",
       "9                                Peanut butter m&ms    Sunday   \n",
       "\n",
       "  Q12: MEDIA [Science] Click Coordinates (x, y)  \n",
       "0                  NaN                      NaN  \n",
       "1                  1.0                 (84, 25)  \n",
       "2                  NaN                      NaN  \n",
       "3                  1.0                 (75, 23)  \n",
       "4                  1.0                 (70, 10)  \n",
       "5                  1.0                 (75, 23)  \n",
       "6                  NaN                      NaN  \n",
       "7                  1.0                  (55, 5)  \n",
       "8                  1.0                 (76, 24)  \n",
       "9                  1.0                 (70, 28)  \n",
       "\n",
       "[10 rows x 113 columns]"
      ]
     },
     "execution_count": 74,
     "metadata": {},
     "output_type": "execute_result"
    }
   ],
   "source": [
    "data.head(10)"
   ]
  },
  {
   "cell_type": "code",
   "execution_count": 75,
   "metadata": {},
   "outputs": [
    {
     "data": {
      "text/plain": [
       "array(['missing', 'usa', 'us', 'canada', 'murica', 'united states', 'uk',\n",
       "       'united kingdom', 'united staes', 'united states of america',\n",
       "       'uae', 'england', 'mexico', 'u.s.a.', 'usausausa', 'america',\n",
       "       'france', 'finland', 'unhinged states', 'us of a', 'unites states',\n",
       "       'the united states', 'north carolina', 'unied states',\n",
       "       'netherlands', 'germany', 'europe', 'earth', 'u s', 'u.s.', 'u.k.',\n",
       "       'costa rica', 'the united states of america', 'unite states',\n",
       "       'cascadia', 'australia', 'insanity lately', 'greece',\n",
       "       'usa? hard to tell anymore..', \"'merica\", 'usas', 'pittsburgh',\n",
       "       'united state', 'a', 'can', 'canae', 'new york', 'trumpistan',\n",
       "       'ireland', 'united sates', 'korea', 'california', 'japan',\n",
       "       'south africa',\n",
       "       'i pretend to be from canada, but i am really from the united states.',\n",
       "       'iceland', 'canada`', 'scotland', 'denmark', 'united stated',\n",
       "       'switzerland', 'ahem....amerca', 'ud', 'south korea', 'new jersey',\n",
       "       'indonesia', 'united ststes', 'the netherlands', 'united statss',\n",
       "       'endland', 'atlantis', 'murrika', 'usa! usa! usa!', 'usaa',\n",
       "       'alaska', 'soviet canuckistan', 'n. america', 'singapore', 'ussa',\n",
       "       'china', 'taiwan', 'hong kong', 'spain', 'sweden', 'narnia',\n",
       "       'u s a', 'united statea', 'subscribe to dm4uz3 on youtube',\n",
       "       'usa usa usa!!!!', \"i don't know anymore\", 'fear and loathing'],\n",
       "      dtype=object)"
      ]
     },
     "execution_count": 75,
     "metadata": {},
     "output_type": "execute_result"
    }
   ],
   "source": [
    "data['Q4: COUNTRY'] =  data['Q4: COUNTRY'].str.lower()\n",
    "data['Q4: COUNTRY'].unique()"
   ]
  },
  {
   "cell_type": "markdown",
   "metadata": {},
   "source": [
    "As we can see, there are some unusual responses to the country question. Let's take a look at how this could effect our analysis. I will be using NLTK's frequency distribuition to plot the most common responses."
   ]
  },
  {
   "cell_type": "code",
   "execution_count": 76,
   "metadata": {},
   "outputs": [
    {
     "name": "stderr",
     "output_type": "stream",
     "text": [
      "[nltk_data] Downloading package stopwords to C:\\Users\\Nick\n",
      "[nltk_data]     Kouthong\\AppData\\Roaming\\nltk_data...\n",
      "[nltk_data]   Package stopwords is already up-to-date!\n"
     ]
    },
    {
     "data": {
      "image/png": "[encoded data removed]",
      "text/plain": [
       "<Figure size 432x288 with 1 Axes>"
      ]
     },
     "metadata": {
      "needs_background": "light"
     },
     "output_type": "display_data"
    }
   ],
   "source": [
    "from nltk.tokenize import sent_tokenize, word_tokenize\n",
    "from nltk.tag import pos_tag\n",
    "from nltk.corpus import stopwords\n",
    "freq = nltk.FreqDist(data['Q4: COUNTRY'])\n",
    "mod_counter = 0\n",
    "nltk.download('stopwords')\n",
    "stopwords = set(stopwords.words('english'))\n",
    "\n",
    "'''\n",
    "for i in range(rows):\n",
    "    if (data['Q4: COUNTRY'][i] != 'missing') and (data['Q4: COUNTRY'][i] not in stopwords):\n",
    "        all_words = all_words +  data['Q4: COUNTRY'][i] + \" \"\n",
    "all_words\n",
    "'''\n",
    "freq.plot(20, cumulative=False)\n"
   ]
  },
  {
   "cell_type": "markdown",
   "metadata": {},
   "source": [
    "We already see some glaring problems. Multiple entries represent the same country( EX: USA = United States) plus there seems to be signs of typos (unites states). It would be wise to clean this column up further before scouting for conclusive results."
   ]
  },
  {
   "cell_type": "code",
   "execution_count": 77,
   "metadata": {},
   "outputs": [
    {
     "name": "stdout",
     "output_type": "stream",
     "text": [
      "ahemamerca\n"
     ]
    },
    {
     "name": "stderr",
     "output_type": "stream",
     "text": [
      "[nltk_data] Downloading package averaged_perceptron_tagger to\n",
      "[nltk_data]     C:\\Users\\Nick Kouthong\\AppData\\Roaming\\nltk_data...\n",
      "[nltk_data]   Package averaged_perceptron_tagger is already up-to-\n",
      "[nltk_data]       date!\n"
     ]
    }
   ],
   "source": [
    "nltk.download('averaged_perceptron_tagger')\n",
    "\n",
    "# test string\n",
    "s = 'ahem....amerca'\n",
    "translator=str.maketrans('','',string.punctuation)\n",
    "s = s.translate(translator)\n",
    "print(s)"
   ]
  },
  {
   "cell_type": "markdown",
   "metadata": {},
   "source": [
    "We now got a translator to remove punctuation from the entries. Now we can cluster abreviated entries. "
   ]
  },
  {
   "cell_type": "code",
   "execution_count": 78,
   "metadata": {},
   "outputs": [
    {
     "data": {
      "text/plain": [
       "array(['missing', 'usa', 'us', 'canada', 'murica', 'united states', 'uk',\n",
       "       'united kingdom', 'united staes', 'united states of america',\n",
       "       'uae', 'england', 'mexico', 'usausausa', 'america', 'france',\n",
       "       'finland', 'unhinged states', 'us of a', 'unites states',\n",
       "       'the united states', 'north carolina', 'unied states',\n",
       "       'netherlands', 'germany', 'europe', 'earth', 'u s', 'costa rica',\n",
       "       'the united states of america', 'unite states', 'cascadia',\n",
       "       'australia', 'insanity lately', 'greece',\n",
       "       'usa hard to tell anymore', 'merica', 'usas', 'pittsburgh',\n",
       "       'united state', 'a', 'can', 'canae', 'new york', 'trumpistan',\n",
       "       'ireland', 'united sates', 'korea', 'california', 'japan',\n",
       "       'south africa',\n",
       "       'i pretend to be from canada but i am really from the united states',\n",
       "       'iceland', 'scotland', 'denmark', 'united stated', 'switzerland',\n",
       "       'ahemamerca', 'ud', 'south korea', 'new jersey', 'indonesia',\n",
       "       'united ststes', 'the netherlands', 'united statss', 'endland',\n",
       "       'atlantis', 'murrika', 'usa usa usa', 'usaa', 'alaska',\n",
       "       'soviet canuckistan', 'n america', 'singapore', 'ussa', 'china',\n",
       "       'taiwan', 'hong kong', 'spain', 'sweden', 'narnia', 'u s a',\n",
       "       'united statea', 'subscribe to dm4uz3 on youtube',\n",
       "       'i dont know anymore', 'fear and loathing'], dtype=object)"
      ]
     },
     "execution_count": 78,
     "metadata": {},
     "output_type": "execute_result"
    }
   ],
   "source": [
    "countries = data['Q4: COUNTRY']\n",
    "\n",
    "for i in range(len(countries)):\n",
    "    countries = countries.replace(countries[i],countries[i].translate(translator))\n",
    "countries.unique()\n"
   ]
  },
  {
   "cell_type": "markdown",
   "metadata": {},
   "source": [
    "We were able to eliminate punctuations from the entries. Now lets figure out how to cluster the typos and abreviations for the same country"
   ]
  },
  {
   "cell_type": "code",
   "execution_count": 79,
   "metadata": {},
   "outputs": [
    {
     "data": {
      "text/plain": [
       "array(['missing', 'usa', 'us', 'canada', 'murica', 'united states', 'uk',\n",
       "       'united kingdom', 'united staes', 'united states of america',\n",
       "       'uae', 'england', 'mexico', 'usausausa', 'america', 'france',\n",
       "       'finland', 'unhinged states', 'us of a', 'unites states',\n",
       "       'the united states', 'north carolina', 'unied states',\n",
       "       'netherlands', 'germany', 'europe', 'earth', 'u s', 'costa rica',\n",
       "       'the united states of america', 'unite states', 'cascadia',\n",
       "       'australia', 'insanity lately', 'greece',\n",
       "       'usa hard to tell anymore', 'merica', 'usas', 'pittsburgh',\n",
       "       'united state', 'a', 'can', 'canae', 'new york', 'trumpistan',\n",
       "       'ireland', 'united sates', 'korea', 'california', 'japan',\n",
       "       'south africa',\n",
       "       'i pretend to be from canada but i am really from the united states',\n",
       "       'iceland', 'scotland', 'denmark', 'united stated', 'switzerland',\n",
       "       'ahemamerca', 'ud', 'south korea', 'new jersey', 'indonesia',\n",
       "       'united ststes', 'the netherlands', 'united statss', 'endland',\n",
       "       'atlantis', 'murrika', 'usa usa usa', 'usaa', 'alaska',\n",
       "       'soviet canuckistan', 'n america', 'singapore', 'ussa', 'china',\n",
       "       'taiwan', 'hong kong', 'spain', 'sweden', 'narnia', 'u s a',\n",
       "       'united statea', 'subscribe to dm4uz3 on youtube',\n",
       "       'i dont know anymore', 'fear and loathing'], dtype=object)"
      ]
     },
     "execution_count": 79,
     "metadata": {},
     "output_type": "execute_result"
    }
   ],
   "source": [
    "data['Q4: COUNTRY'] = countries\n",
    "data['Q4: COUNTRY'].unique()"
   ]
  },
  {
   "cell_type": "markdown",
   "metadata": {},
   "source": [
    "We can use the fuzzywuzzy library which uses the Leveshtein distance to score the similarities between words. It won't be a magical solution but it will help reduce the amount of duplicates from typos and abbreviations."
   ]
  },
  {
   "cell_type": "code",
   "execution_count": 88,
   "metadata": {},
   "outputs": [],
   "source": [
    "from fuzzywuzzy import fuzz\n",
    "from fuzzywuzzy import process\n",
    "\n",
    "#This is a reflective process. Use a list to keep track of seen entries to prevent \n",
    "#reflecivity.\n",
    "changed = []\n",
    "\n",
    "#Note: try to find ways to optimize runtime\n",
    "for i in range(len(countries) - 1):\n",
    "    curr = countries[i]\n",
    "    for j in range(i+1,len(countries)):\n",
    "        if((fuzz.ratio(curr, countries[j]) >= 70) and (j not in changed)):\n",
    "            countries = countries.replace(countries[i],countries[j])\n",
    "            changed.append(j)\n",
    "            "
   ]
  },
  {
   "cell_type": "code",
   "execution_count": 89,
   "metadata": {},
   "outputs": [
    {
     "data": {
      "text/plain": [
       "array(['missing', 'u s', 'can', 'murrika', 'united statea', 'uk',\n",
       "       'united kingdom', 'uae', 'endland', 'mexico', 'usa usa usa',\n",
       "       'france', 'us of a', 'north carolina', 'the netherlands',\n",
       "       'germany', 'europe', 'earth', 'costa rica',\n",
       "       'the united states of america', 'australia', 'insanity lately',\n",
       "       'greece', 'usa hard to tell anymore', 'pittsburgh', 'a',\n",
       "       'new york', 'trumpistan', 'korea', 'california', 'japan',\n",
       "       'south africa',\n",
       "       'i pretend to be from canada but i am really from the united states',\n",
       "       'scotland', 'denmark', 'switzerland', 'ahemamerca', 'ud',\n",
       "       'south korea', 'new jersey', 'indonesia', 'atlantis', 'alaska',\n",
       "       'soviet canuckistan', 'n america', 'singapore', 'china', 'taiwan',\n",
       "       'hong kong', 'spain', 'sweden', 'narnia',\n",
       "       'subscribe to dm4uz3 on youtube', 'i dont know anymore',\n",
       "       'fear and loathing'], dtype=object)"
      ]
     },
     "execution_count": 89,
     "metadata": {},
     "output_type": "execute_result"
    }
   ],
   "source": [
    "countries.unique()"
   ]
  },
  {
   "cell_type": "code",
   "execution_count": 92,
   "metadata": {},
   "outputs": [
    {
     "data": {
      "image/png": "[encoded data removed]",
      "text/plain": [
       "<Figure size 432x288 with 1 Axes>"
      ]
     },
     "metadata": {
      "needs_background": "light"
     },
     "output_type": "display_data"
    }
   ],
   "source": [
    "data['Q4: COUNTRY'] = countries\n",
    "freq = nltk.FreqDist(data['Q4: COUNTRY'])\n",
    "freq.plot(20, cumulative=False)"
   ]
  },
  {
   "cell_type": "markdown",
   "metadata": {},
   "source": [
    "There are still duplicates but at least now we got a better view of the various countries reported from.\n",
    "### Observations:\n",
    "#### 1) The United States contains the most entries, followed by Canada\n",
    "#### 2) The United Kingdom has the most entries out of all European countries reported."
   ]
  },
  {
   "cell_type": "markdown",
   "metadata": {},
   "source": [
    "## Candy Time\n",
    "It is now time to look at all the candies. First let's extract all the columns that contain the responses for various candies. This is simple as all the candy column names follow the format of 'Q6 | candy name'."
   ]
  },
  {
   "cell_type": "code",
   "execution_count": 96,
   "metadata": {},
   "outputs": [
    {
     "data": {
      "text/plain": [
       "['Q6 | 100 Grand Bar',\n",
       " 'Q6 | Anonymous brown globs that come in black and orange wrappers\\t(a.k.a. Mary Janes)',\n",
       " 'Q6 | Any full-sized candy bar',\n",
       " 'Q6 | Black Jacks',\n",
       " 'Q6 | Bonkers (the candy)',\n",
       " 'Q6 | Bonkers (the board game)',\n",
       " 'Q6 | Bottle Caps',\n",
       " \"Q6 | Box'o'Raisins\",\n",
       " 'Q6 | Broken glow stick',\n",
       " 'Q6 | Butterfinger',\n",
       " 'Q6 | Cadbury Creme Eggs',\n",
       " 'Q6 | Candy Corn',\n",
       " 'Q6 | Candy that is clearly just the stuff given out for free at restaurants',\n",
       " 'Q6 | Caramellos',\n",
       " 'Q6 | Cash, or other forms of legal tender',\n",
       " 'Q6 | Chardonnay',\n",
       " 'Q6 | Chick-o-Sticks (we don’t know what that is)',\n",
       " 'Q6 | Chiclets',\n",
       " 'Q6 | Coffee Crisp',\n",
       " 'Q6 | Creepy Religious comics/Chick Tracts',\n",
       " 'Q6 | Dental paraphenalia',\n",
       " 'Q6 | Dots',\n",
       " 'Q6 | Dove Bars',\n",
       " 'Q6 | Fuzzy Peaches',\n",
       " 'Q6 | Generic Brand Acetaminophen',\n",
       " 'Q6 | Glow sticks',\n",
       " 'Q6 | Goo Goo Clusters',\n",
       " \"Q6 | Good N' Plenty\",\n",
       " 'Q6 | Gum from baseball cards',\n",
       " 'Q6 | Gummy Bears straight up',\n",
       " 'Q6 | Hard Candy',\n",
       " 'Q6 | Healthy Fruit',\n",
       " 'Q6 | Heath Bar',\n",
       " \"Q6 | Hershey's Dark Chocolate\",\n",
       " 'Q6 | Hershey’s Milk Chocolate',\n",
       " \"Q6 | Hershey's Kisses\",\n",
       " 'Q6 | Hugs (actual physical hugs)',\n",
       " 'Q6 | Jolly Rancher (bad flavor)',\n",
       " 'Q6 | Jolly Ranchers (good flavor)',\n",
       " 'Q6 | JoyJoy (Mit Iodine!)',\n",
       " 'Q6 | Junior Mints',\n",
       " 'Q6 | Senior Mints',\n",
       " 'Q6 | Kale smoothie',\n",
       " 'Q6 | Kinder Happy Hippo',\n",
       " 'Q6 | Kit Kat',\n",
       " 'Q6 | LaffyTaffy',\n",
       " 'Q6 | LemonHeads',\n",
       " 'Q6 | Licorice (not black)',\n",
       " 'Q6 | Licorice (yes black)',\n",
       " 'Q6 | Lindt Truffle',\n",
       " 'Q6 | Lollipops',\n",
       " 'Q6 | Mars',\n",
       " 'Q6 | Maynards',\n",
       " 'Q6 | Mike and Ike',\n",
       " 'Q6 | Milk Duds',\n",
       " 'Q6 | Milky Way',\n",
       " 'Q6 | Regular M&Ms',\n",
       " 'Q6 | Peanut M&M’s',\n",
       " \"Q6 | Blue M&M's\",\n",
       " \"Q6 | Red M&M's\",\n",
       " \"Q6 | Green Party M&M's\",\n",
       " \"Q6 | Independent M&M's\",\n",
       " \"Q6 | Abstained from M&M'ing.\",\n",
       " 'Q6 | Minibags of chips',\n",
       " 'Q6 | Mint Kisses',\n",
       " 'Q6 | Mint Juleps',\n",
       " 'Q6 | Mr. Goodbar',\n",
       " 'Q6 | Necco Wafers',\n",
       " 'Q6 | Nerds',\n",
       " 'Q6 | Nestle Crunch',\n",
       " \"Q6 | Now'n'Laters\",\n",
       " 'Q6 | Peeps',\n",
       " 'Q6 | Pencils',\n",
       " 'Q6 | Pixy Stix',\n",
       " 'Q6 | Real Housewives of Orange County Season 9 Blue-Ray',\n",
       " 'Q6 | Reese’s Peanut Butter Cups',\n",
       " \"Q6 | Reese's Pieces\",\n",
       " 'Q6 | Reggie Jackson Bar',\n",
       " 'Q6 | Rolos',\n",
       " 'Q6 | Sandwich-sized bags filled with BooBerry Crunch',\n",
       " 'Q6 | Skittles',\n",
       " 'Q6 | Smarties (American)',\n",
       " 'Q6 | Smarties (Commonwealth)',\n",
       " 'Q6 | Snickers',\n",
       " 'Q6 | Sourpatch Kids (i.e. abominations of nature)',\n",
       " 'Q6 | Spotted Dick',\n",
       " 'Q6 | Starburst',\n",
       " 'Q6 | Sweet Tarts',\n",
       " 'Q6 | Swedish Fish',\n",
       " 'Q6 | Sweetums (a friend to diabetes)',\n",
       " 'Q6 | Take 5',\n",
       " 'Q6 | Tic Tacs',\n",
       " 'Q6 | Those odd marshmallow circus peanut things',\n",
       " 'Q6 | Three Musketeers',\n",
       " 'Q6 | Tolberone something or other',\n",
       " 'Q6 | Trail Mix',\n",
       " 'Q6 | Twix',\n",
       " 'Q6 | Vials of pure high fructose corn syrup, for main-lining into your vein',\n",
       " 'Q6 | Vicodin',\n",
       " 'Q6 | Whatchamacallit Bars',\n",
       " 'Q6 | White Bread',\n",
       " 'Q6 | Whole Wheat anything',\n",
       " 'Q6 | York Peppermint Patties']"
      ]
     },
     "execution_count": 96,
     "metadata": {},
     "output_type": "execute_result"
    }
   ],
   "source": [
    "cols = data.columns\n",
    "candy_cols = []\n",
    "for i in range(len(cols)):\n",
    "    if 'Q6' in cols[i]:\n",
    "        candy_cols.append(cols[i])\n",
    "        \n",
    "candy_cols"
   ]
  },
  {
   "cell_type": "markdown",
   "metadata": {},
   "source": [
    "Now we will be counting the amount of 'JOY' answers for each candy to give us a measure of what are the most loved candies"
   ]
  },
  {
   "cell_type": "code",
   "execution_count": 109,
   "metadata": {},
   "outputs": [],
   "source": [
    "import math\n",
    "candy_dict = {}\n",
    "for i in range(len(candy_cols)):\n",
    "    curr = data[candy_cols[i]]\n",
    "    #check for nan values\n",
    "    nul_list = pd.isnull(curr)\n",
    "    #extract candy name\n",
    "    name = candy_cols[i].replace('Q6 | ','')\n",
    "    #counter for 'JOY responses'\n",
    "    count = 0\n",
    "    for j in range(len(curr)):\n",
    "        if((not nul_list[j]) and curr[j] == 'JOY'):\n",
    "            count = count + 1\n",
    "    candy_dict[name] = count"
   ]
  },
  {
   "cell_type": "code",
   "execution_count": 110,
   "metadata": {},
   "outputs": [
    {
     "data": {
      "text/plain": [
       "{'100 Grand Bar': 873,\n",
       " 'Anonymous brown globs that come in black and orange wrappers\\t(a.k.a. Mary Janes)': 176,\n",
       " 'Any full-sized candy bar': 1559,\n",
       " 'Black Jacks': 92,\n",
       " 'Bonkers (the candy)': 116,\n",
       " 'Bonkers (the board game)': 193,\n",
       " 'Bottle Caps': 465,\n",
       " \"Box'o'Raisins\": 117,\n",
       " 'Broken glow stick': 24,\n",
       " 'Butterfinger': 1177,\n",
       " 'Cadbury Creme Eggs': 820,\n",
       " 'Candy Corn': 478,\n",
       " 'Candy that is clearly just the stuff given out for free at restaurants': 39,\n",
       " 'Caramellos': 953,\n",
       " 'Cash, or other forms of legal tender': 1439,\n",
       " 'Chardonnay': 1040,\n",
       " 'Chick-o-Sticks (we don’t know what that is)': 299,\n",
       " 'Chiclets': 244,\n",
       " 'Coffee Crisp': 474,\n",
       " 'Creepy Religious comics/Chick Tracts': 246,\n",
       " 'Dental paraphenalia': 91,\n",
       " 'Dots': 410,\n",
       " 'Dove Bars': 1176,\n",
       " 'Fuzzy Peaches': 402,\n",
       " 'Generic Brand Acetaminophen': 162,\n",
       " 'Glow sticks': 612,\n",
       " 'Goo Goo Clusters': 409,\n",
       " \"Good N' Plenty\": 408,\n",
       " 'Gum from baseball cards': 44,\n",
       " 'Gummy Bears straight up': 748,\n",
       " 'Hard Candy': 272,\n",
       " 'Healthy Fruit': 228,\n",
       " 'Heath Bar': 1069,\n",
       " \"Hershey's Dark Chocolate\": 1105,\n",
       " 'Hershey’s Milk Chocolate': 896,\n",
       " \"Hershey's Kisses\": 834,\n",
       " 'Hugs (actual physical hugs)': 433,\n",
       " 'Jolly Rancher (bad flavor)': 98,\n",
       " 'Jolly Ranchers (good flavor)': 747,\n",
       " 'JoyJoy (Mit Iodine!)': 76,\n",
       " 'Junior Mints': 1020,\n",
       " 'Senior Mints': 151,\n",
       " 'Kale smoothie': 108,\n",
       " 'Kinder Happy Hippo': 503,\n",
       " 'Kit Kat': 1447,\n",
       " 'LaffyTaffy': 450,\n",
       " 'LemonHeads': 670,\n",
       " 'Licorice (not black)': 557,\n",
       " 'Licorice (yes black)': 543,\n",
       " 'Lindt Truffle': 1277,\n",
       " 'Lollipops': 364,\n",
       " 'Mars': 1026,\n",
       " 'Maynards': 148,\n",
       " 'Mike and Ike': 534,\n",
       " 'Milk Duds': 878,\n",
       " 'Milky Way': 1185,\n",
       " 'Regular M&Ms': 1122,\n",
       " 'Peanut M&M’s': 1291,\n",
       " \"Blue M&M's\": 1018,\n",
       " \"Red M&M's\": 1001,\n",
       " \"Green Party M&M's\": 972,\n",
       " \"Independent M&M's\": 757,\n",
       " \"Abstained from M&M'ing.\": 218,\n",
       " 'Minibags of chips': 537,\n",
       " 'Mint Kisses': 619,\n",
       " 'Mint Juleps': 904,\n",
       " 'Mr. Goodbar': 857,\n",
       " 'Necco Wafers': 353,\n",
       " 'Nerds': 769,\n",
       " 'Nestle Crunch': 1188,\n",
       " \"Now'n'Laters\": 361,\n",
       " 'Peeps': 239,\n",
       " 'Pencils': 181,\n",
       " 'Pixy Stix': 543,\n",
       " 'Real Housewives of Orange County Season 9 Blue-Ray': 91,\n",
       " 'Reese’s Peanut Butter Cups': 1498,\n",
       " \"Reese's Pieces\": 1136,\n",
       " 'Reggie Jackson Bar': 254,\n",
       " 'Rolos': 1151,\n",
       " 'Sandwich-sized bags filled with BooBerry Crunch': 211,\n",
       " 'Skittles': 829,\n",
       " 'Smarties (American)': 729,\n",
       " 'Smarties (Commonwealth)': 539,\n",
       " 'Snickers': 1399,\n",
       " 'Sourpatch Kids (i.e. abominations of nature)': 770,\n",
       " 'Spotted Dick': 128,\n",
       " 'Starburst': 853,\n",
       " 'Sweet Tarts': 783,\n",
       " 'Swedish Fish': 754,\n",
       " 'Sweetums (a friend to diabetes)': 151,\n",
       " 'Take 5': 577,\n",
       " 'Tic Tacs': 264,\n",
       " 'Those odd marshmallow circus peanut things': 189,\n",
       " 'Three Musketeers': 1058,\n",
       " 'Tolberone something or other': 1320,\n",
       " 'Trail Mix': 228,\n",
       " 'Twix': 1413,\n",
       " 'Vials of pure high fructose corn syrup, for main-lining into your vein': 233,\n",
       " 'Vicodin': 707,\n",
       " 'Whatchamacallit Bars': 840,\n",
       " 'White Bread': 44,\n",
       " 'Whole Wheat anything': 117,\n",
       " 'York Peppermint Patties': 1105}"
      ]
     },
     "execution_count": 110,
     "metadata": {},
     "output_type": "execute_result"
    }
   ],
   "source": [
    "candy_dict"
   ]
  },
  {
   "cell_type": "code",
   "execution_count": 116,
   "metadata": {},
   "outputs": [
    {
     "ename": "TypeError",
     "evalue": "float() argument must be a string or a number, not 'dict_values'",
     "output_type": "error",
     "traceback": [
      "\u001b[1;31m---------------------------------------------------------------------------\u001b[0m",
      "\u001b[1;31mTypeError\u001b[0m                                 Traceback (most recent call last)",
      "\u001b[1;32m<ipython-input-116-2ef5f1b7e70c>\u001b[0m in \u001b[0;36m<module>\u001b[1;34m\u001b[0m\n\u001b[0;32m      1\u001b[0m \u001b[0mkeys\u001b[0m \u001b[1;33m=\u001b[0m \u001b[0mnp\u001b[0m\u001b[1;33m.\u001b[0m\u001b[0masarray\u001b[0m\u001b[1;33m(\u001b[0m\u001b[0mcandy_dict\u001b[0m\u001b[1;33m.\u001b[0m\u001b[0mkeys\u001b[0m\u001b[1;33m(\u001b[0m\u001b[1;33m)\u001b[0m\u001b[1;33m)\u001b[0m\u001b[1;33m\u001b[0m\u001b[1;33m\u001b[0m\u001b[0m\n\u001b[0;32m      2\u001b[0m \u001b[0mvalues\u001b[0m \u001b[1;33m=\u001b[0m \u001b[0mnp\u001b[0m\u001b[1;33m.\u001b[0m\u001b[0masarray\u001b[0m\u001b[1;33m(\u001b[0m\u001b[0mcandy_dict\u001b[0m\u001b[1;33m.\u001b[0m\u001b[0mvalues\u001b[0m\u001b[1;33m(\u001b[0m\u001b[1;33m)\u001b[0m\u001b[1;33m)\u001b[0m\u001b[1;33m\u001b[0m\u001b[1;33m\u001b[0m\u001b[0m\n\u001b[1;32m----> 3\u001b[1;33m \u001b[0msns\u001b[0m\u001b[1;33m.\u001b[0m\u001b[0mbarplot\u001b[0m\u001b[1;33m(\u001b[0m\u001b[0mx\u001b[0m \u001b[1;33m=\u001b[0m \u001b[0mkeys\u001b[0m\u001b[1;33m,\u001b[0m \u001b[0my\u001b[0m \u001b[1;33m=\u001b[0m \u001b[0mvalues\u001b[0m\u001b[1;33m)\u001b[0m\u001b[1;33m\u001b[0m\u001b[1;33m\u001b[0m\u001b[0m\n\u001b[0m",
      "\u001b[1;32m~\\Anaconda3\\lib\\site-packages\\seaborn\\categorical.py\u001b[0m in \u001b[0;36mbarplot\u001b[1;34m(x, y, hue, data, order, hue_order, estimator, ci, n_boot, units, orient, color, palette, saturation, errcolor, errwidth, capsize, dodge, ax, **kwargs)\u001b[0m\n\u001b[0;32m   3147\u001b[0m                           \u001b[0mestimator\u001b[0m\u001b[1;33m,\u001b[0m \u001b[0mci\u001b[0m\u001b[1;33m,\u001b[0m \u001b[0mn_boot\u001b[0m\u001b[1;33m,\u001b[0m \u001b[0munits\u001b[0m\u001b[1;33m,\u001b[0m\u001b[1;33m\u001b[0m\u001b[1;33m\u001b[0m\u001b[0m\n\u001b[0;32m   3148\u001b[0m                           \u001b[0morient\u001b[0m\u001b[1;33m,\u001b[0m \u001b[0mcolor\u001b[0m\u001b[1;33m,\u001b[0m \u001b[0mpalette\u001b[0m\u001b[1;33m,\u001b[0m \u001b[0msaturation\u001b[0m\u001b[1;33m,\u001b[0m\u001b[1;33m\u001b[0m\u001b[1;33m\u001b[0m\u001b[0m\n\u001b[1;32m-> 3149\u001b[1;33m                           errcolor, errwidth, capsize, dodge)\n\u001b[0m\u001b[0;32m   3150\u001b[0m \u001b[1;33m\u001b[0m\u001b[0m\n\u001b[0;32m   3151\u001b[0m     \u001b[1;32mif\u001b[0m \u001b[0max\u001b[0m \u001b[1;32mis\u001b[0m \u001b[1;32mNone\u001b[0m\u001b[1;33m:\u001b[0m\u001b[1;33m\u001b[0m\u001b[1;33m\u001b[0m\u001b[0m\n",
      "\u001b[1;32m~\\Anaconda3\\lib\\site-packages\\seaborn\\categorical.py\u001b[0m in \u001b[0;36m__init__\u001b[1;34m(self, x, y, hue, data, order, hue_order, estimator, ci, n_boot, units, orient, color, palette, saturation, errcolor, errwidth, capsize, dodge)\u001b[0m\n\u001b[0;32m   1605\u001b[0m         \u001b[1;34m\"\"\"Initialize the plotter.\"\"\"\u001b[0m\u001b[1;33m\u001b[0m\u001b[1;33m\u001b[0m\u001b[0m\n\u001b[0;32m   1606\u001b[0m         self.establish_variables(x, y, hue, data, orient,\n\u001b[1;32m-> 1607\u001b[1;33m                                  order, hue_order, units)\n\u001b[0m\u001b[0;32m   1608\u001b[0m         \u001b[0mself\u001b[0m\u001b[1;33m.\u001b[0m\u001b[0mestablish_colors\u001b[0m\u001b[1;33m(\u001b[0m\u001b[0mcolor\u001b[0m\u001b[1;33m,\u001b[0m \u001b[0mpalette\u001b[0m\u001b[1;33m,\u001b[0m \u001b[0msaturation\u001b[0m\u001b[1;33m)\u001b[0m\u001b[1;33m\u001b[0m\u001b[1;33m\u001b[0m\u001b[0m\n\u001b[0;32m   1609\u001b[0m         \u001b[0mself\u001b[0m\u001b[1;33m.\u001b[0m\u001b[0mestimate_statistic\u001b[0m\u001b[1;33m(\u001b[0m\u001b[0mestimator\u001b[0m\u001b[1;33m,\u001b[0m \u001b[0mci\u001b[0m\u001b[1;33m,\u001b[0m \u001b[0mn_boot\u001b[0m\u001b[1;33m)\u001b[0m\u001b[1;33m\u001b[0m\u001b[1;33m\u001b[0m\u001b[0m\n",
      "\u001b[1;32m~\\Anaconda3\\lib\\site-packages\\seaborn\\categorical.py\u001b[0m in \u001b[0;36mestablish_variables\u001b[1;34m(self, x, y, hue, data, orient, order, hue_order, units)\u001b[0m\n\u001b[0;32m    156\u001b[0m \u001b[1;33m\u001b[0m\u001b[0m\n\u001b[0;32m    157\u001b[0m             \u001b[1;31m# Figure out the plotting orientation\u001b[0m\u001b[1;33m\u001b[0m\u001b[1;33m\u001b[0m\u001b[1;33m\u001b[0m\u001b[0m\n\u001b[1;32m--> 158\u001b[1;33m             \u001b[0morient\u001b[0m \u001b[1;33m=\u001b[0m \u001b[0mself\u001b[0m\u001b[1;33m.\u001b[0m\u001b[0minfer_orient\u001b[0m\u001b[1;33m(\u001b[0m\u001b[0mx\u001b[0m\u001b[1;33m,\u001b[0m \u001b[0my\u001b[0m\u001b[1;33m,\u001b[0m \u001b[0morient\u001b[0m\u001b[1;33m)\u001b[0m\u001b[1;33m\u001b[0m\u001b[1;33m\u001b[0m\u001b[0m\n\u001b[0m\u001b[0;32m    159\u001b[0m \u001b[1;33m\u001b[0m\u001b[0m\n\u001b[0;32m    160\u001b[0m             \u001b[1;31m# Option 2a:\u001b[0m\u001b[1;33m\u001b[0m\u001b[1;33m\u001b[0m\u001b[1;33m\u001b[0m\u001b[0m\n",
      "\u001b[1;32m~\\Anaconda3\\lib\\site-packages\\seaborn\\categorical.py\u001b[0m in \u001b[0;36minfer_orient\u001b[1;34m(self, x, y, orient)\u001b[0m\n\u001b[0;32m    357\u001b[0m             \u001b[1;32melse\u001b[0m\u001b[1;33m:\u001b[0m\u001b[1;33m\u001b[0m\u001b[1;33m\u001b[0m\u001b[0m\n\u001b[0;32m    358\u001b[0m                 \u001b[1;32mreturn\u001b[0m \u001b[1;34m\"h\"\u001b[0m\u001b[1;33m\u001b[0m\u001b[1;33m\u001b[0m\u001b[0m\n\u001b[1;32m--> 359\u001b[1;33m         \u001b[1;32melif\u001b[0m \u001b[0mis_not_numeric\u001b[0m\u001b[1;33m(\u001b[0m\u001b[0my\u001b[0m\u001b[1;33m)\u001b[0m\u001b[1;33m:\u001b[0m\u001b[1;33m\u001b[0m\u001b[1;33m\u001b[0m\u001b[0m\n\u001b[0m\u001b[0;32m    360\u001b[0m             \u001b[1;32mif\u001b[0m \u001b[0mis_not_numeric\u001b[0m\u001b[1;33m(\u001b[0m\u001b[0mx\u001b[0m\u001b[1;33m)\u001b[0m\u001b[1;33m:\u001b[0m\u001b[1;33m\u001b[0m\u001b[1;33m\u001b[0m\u001b[0m\n\u001b[0;32m    361\u001b[0m                 \u001b[1;32mraise\u001b[0m \u001b[0mValueError\u001b[0m\u001b[1;33m(\u001b[0m\u001b[0mno_numeric\u001b[0m\u001b[1;33m)\u001b[0m\u001b[1;33m\u001b[0m\u001b[1;33m\u001b[0m\u001b[0m\n",
      "\u001b[1;32m~\\Anaconda3\\lib\\site-packages\\seaborn\\categorical.py\u001b[0m in \u001b[0;36mis_not_numeric\u001b[1;34m(s)\u001b[0m\n\u001b[0;32m    337\u001b[0m         \u001b[1;32mdef\u001b[0m \u001b[0mis_not_numeric\u001b[0m\u001b[1;33m(\u001b[0m\u001b[0ms\u001b[0m\u001b[1;33m)\u001b[0m\u001b[1;33m:\u001b[0m\u001b[1;33m\u001b[0m\u001b[1;33m\u001b[0m\u001b[0m\n\u001b[0;32m    338\u001b[0m             \u001b[1;32mtry\u001b[0m\u001b[1;33m:\u001b[0m\u001b[1;33m\u001b[0m\u001b[1;33m\u001b[0m\u001b[0m\n\u001b[1;32m--> 339\u001b[1;33m                 \u001b[0mnp\u001b[0m\u001b[1;33m.\u001b[0m\u001b[0masarray\u001b[0m\u001b[1;33m(\u001b[0m\u001b[0ms\u001b[0m\u001b[1;33m,\u001b[0m \u001b[0mdtype\u001b[0m\u001b[1;33m=\u001b[0m\u001b[0mnp\u001b[0m\u001b[1;33m.\u001b[0m\u001b[0mfloat\u001b[0m\u001b[1;33m)\u001b[0m\u001b[1;33m\u001b[0m\u001b[1;33m\u001b[0m\u001b[0m\n\u001b[0m\u001b[0;32m    340\u001b[0m             \u001b[1;32mexcept\u001b[0m \u001b[0mValueError\u001b[0m\u001b[1;33m:\u001b[0m\u001b[1;33m\u001b[0m\u001b[1;33m\u001b[0m\u001b[0m\n\u001b[0;32m    341\u001b[0m                 \u001b[1;32mreturn\u001b[0m \u001b[1;32mTrue\u001b[0m\u001b[1;33m\u001b[0m\u001b[1;33m\u001b[0m\u001b[0m\n",
      "\u001b[1;32m~\\Anaconda3\\lib\\site-packages\\numpy\\core\\numeric.py\u001b[0m in \u001b[0;36masarray\u001b[1;34m(a, dtype, order)\u001b[0m\n\u001b[0;32m    536\u001b[0m \u001b[1;33m\u001b[0m\u001b[0m\n\u001b[0;32m    537\u001b[0m     \"\"\"\n\u001b[1;32m--> 538\u001b[1;33m     \u001b[1;32mreturn\u001b[0m \u001b[0marray\u001b[0m\u001b[1;33m(\u001b[0m\u001b[0ma\u001b[0m\u001b[1;33m,\u001b[0m \u001b[0mdtype\u001b[0m\u001b[1;33m,\u001b[0m \u001b[0mcopy\u001b[0m\u001b[1;33m=\u001b[0m\u001b[1;32mFalse\u001b[0m\u001b[1;33m,\u001b[0m \u001b[0morder\u001b[0m\u001b[1;33m=\u001b[0m\u001b[0morder\u001b[0m\u001b[1;33m)\u001b[0m\u001b[1;33m\u001b[0m\u001b[1;33m\u001b[0m\u001b[0m\n\u001b[0m\u001b[0;32m    539\u001b[0m \u001b[1;33m\u001b[0m\u001b[0m\n\u001b[0;32m    540\u001b[0m \u001b[1;33m\u001b[0m\u001b[0m\n",
      "\u001b[1;31mTypeError\u001b[0m: float() argument must be a string or a number, not 'dict_values'"
     ]
    }
   ],
   "source": [
    "keys = np.asarray(candy_dict.keys())\n",
    "values = np.asarray(candy_dict.values())\n",
    "sns.barplot(x = keys, y = values)"
   ]
  }
 ],
 "metadata": {
  "kernelspec": {
   "display_name": "Python 3",
   "language": "python",
   "name": "python3"
  },
  "language_info": {
   "codemirror_mode": {
    "name": "ipython",
    "version": 3
   },
   "file_extension": ".py",
   "mimetype": "text/x-python",
   "name": "python",
   "nbconvert_exporter": "python",
   "pygments_lexer": "ipython3",
   "version": "3.7.3"
  }
 },
 "nbformat": 4,
 "nbformat_minor": 2
}
